{
 "cells": [
  {
   "cell_type": "code",
   "execution_count": 49,
   "metadata": {},
   "outputs": [],
   "source": [
    "from pyspark.sql import SparkSession\n",
    "from pyspark.ml.feature import Tokenizer, CountVectorizer, RegexTokenizer\n",
    "import pyspark.sql.functions as F\n",
    "import pyspark.sql.types as T\n",
    "\n",
    "# Criar uma SparkSession\n",
    "spark = SparkSession.builder.appName(\"\").getOrCreate()\n",
    "\n",
    "# Lista de descrições de filmes\n",
    "data = [\n",
    "    (0, \"Um jovem descobre que é um mago e vai para uma escola de magia.\"),\n",
    "    (1, \"Um grupo de amigos embarca em uma jornada para destruir um anel poderoso.\"),\n",
    "    (2, '\"Several actresses get caught up in a web of romantic intrigue while performing in a production of Shakespeare\"s \"\"Twelfth Night.\"\"\"')\n",
    "]\n",
    "\n",
    "columns = [\"id\", \"description\"]\n",
    "df = spark.createDataFrame(data, columns)"
   ]
  },
  {
   "cell_type": "code",
   "execution_count": 51,
   "metadata": {},
   "outputs": [
    {
     "name": "stdout",
     "output_type": "stream",
     "text": [
      "+---+------------------------------------------------------------------------------------------------------------------------------------+-------------------------------------------------------------------------------------------------------------------------------------------------+--------------------------------------------------------------------------------------------------------------------------------------+\n",
      "|id |description                                                                                                                         |words                                                                                                                                            |cleaned_words                                                                                                                         |\n",
      "+---+------------------------------------------------------------------------------------------------------------------------------------+-------------------------------------------------------------------------------------------------------------------------------------------------+--------------------------------------------------------------------------------------------------------------------------------------+\n",
      "|0  |Um jovem descobre que é um mago e vai para uma escola de magia.                                                                     |[um, jovem, descobre, que, é, um, mago, e, vai, para, uma, escola, de, magia]                                                                    |[jovem, descobre, mago, vai, escola, magia]                                                                                           |\n",
      "|1  |Um grupo de amigos embarca em uma jornada para destruir um anel poderoso.                                                           |[um, grupo, de, amigos, embarca, em, uma, jornada, para, destruir, um, anel, poderoso]                                                           |[grupo, amigos, embarca, jornada, destruir, anel, poderoso]                                                                           |\n",
      "|2  |\"Several actresses get caught up in a web of romantic intrigue while performing in a production of Shakespeare\"s \"\"Twelfth Night.\"\"\"|[several, actresses, get, caught, up, in, a, web, of, romantic, intrigue, while, performing, in, a, production, of, shakespeares, twelfth, night]|[several, actresses, get, caught, up, in, a, web, of, romantic, intrigue, while, performing, production, shakespeares, twelfth, night]|\n",
      "+---+------------------------------------------------------------------------------------------------------------------------------------+-------------------------------------------------------------------------------------------------------------------------------------------------+--------------------------------------------------------------------------------------------------------------------------------------+\n",
      "\n"
     ]
    }
   ],
   "source": [
    "# Tokenizar o texto\n",
    "regexTokenizer = Tokenizer(inputCol=\"description\", outputCol=\"words\")\n",
    "wordsData = regexTokenizer.transform(df)\n",
    "wordsData = wordsData.withColumn(\"words\", F.expr(\"transform(words, x -> regexp_replace(x, '[\\\\\\\\.\\\\'\\\\\\\"]', ''))\"))\n",
    "\n",
    "words_to_remove = [\"um\", \"para\", \"de\", \"uma\", \"e\" ,\"que\", \"é\", \"em\", \"sua\"]\n",
    "words_to_remove_col = F.array([F.lit(word) for word in words_to_remove])\n",
    "\n",
    "# Usar array_except para remover as palavras específicas\n",
    "result_cleaned = wordsData.withColumn(\"cleaned_words\", F.expr(\"array_except(words, array(\" + \", \".join([f\"'{word}'\" for word in words_to_remove]) + \"))\"))\n",
    "\n",
    "# Visualizar o resultado\n",
    "result_cleaned.show(truncate=False)\n"
   ]
  },
  {
   "cell_type": "code",
   "execution_count": 32,
   "metadata": {},
   "outputs": [
    {
     "name": "stdout",
     "output_type": "stream",
     "text": [
      "+--------------------------------------------------------------------------------------+\n",
      "|words                                                                                 |\n",
      "+--------------------------------------------------------------------------------------+\n",
      "|[um, jovem, descobre, que, é, um, mago, e, vai, para, uma, escola, de, magia]         |\n",
      "|[um, grupo, de, amigos, embarca, em, uma, jornada, para, destruir, um, anel, poderoso]|\n",
      "|[um, super-herói, luta, contra, vilões, para, salvar, sua, cidade]                    |\n",
      "+--------------------------------------------------------------------------------------+\n",
      "\n"
     ]
    }
   ],
   "source": [
    "# Supondo que você já tenha um DataFrame result com a coluna \"words\"\n",
    "df2 = result.withColumn(\"words\", F.col(\"words\").cast(\"array<string>\"))\n",
    "\n",
    "# Aplicar a função regexp_replace a cada palavra na lista para remover pontos finais\n",
    "df2 = df2.withColumn(\"words\", F.expr(\"transform(words, x -> regexp_replace(x, '\\\\\\.$', ''))\"))\n",
    "df2.select(\"words\").show(truncate=False)"
   ]
  },
  {
   "cell_type": "code",
   "execution_count": 40,
   "metadata": {},
   "outputs": [
    {
     "name": "stdout",
     "output_type": "stream",
     "text": [
      "+-----------------------------+\n",
      "|string_with_word             |\n",
      "+-----------------------------+\n",
      "|A palavra selecionada é:jovem|\n",
      "|A palavra selecionada é:grupo|\n",
      "|A palavra selecionada é:super|\n",
      "+-----------------------------+\n",
      "\n"
     ]
    }
   ],
   "source": [
    "index = 1\n",
    "\n",
    "# Selecionar a posição específica do vetor e colocá-la em uma string\n",
    "df3 = result.withColumn(\"specific_word\", F.expr(f\"words[{index}]\"))\n",
    "df3 = df3.withColumn(\"string_with_word\", F.concat(F.lit(\"A palavra selecionada é:\"), F.col(\"specific_word\")))\n",
    "\n",
    "df3.select(\"string_with_word\").show(truncate=False)"
   ]
  },
  {
   "cell_type": "code",
   "execution_count": 58,
   "metadata": {},
   "outputs": [
    {
     "name": "stdout",
     "output_type": "stream",
     "text": [
      "Hello, how are you?\n"
     ]
    }
   ],
   "source": [
    "from deep_translator import GoogleTranslator\n",
    "\n",
    "def translate_text(text):\n",
    "    if text is None:\n",
    "        return None\n",
    "    try:\n",
    "        # Traduz para o inglês\n",
    "        translated = GoogleTranslator(source='auto', target='en').translate(text)\n",
    "        return translated\n",
    "    except Exception as e:\n",
    "        return text  # Em caso de erro, retorna o texto original\n",
    "\n",
    "# Teste da função\n",
    "print(translate_text(\"Olá, como vai?\"))  # Deve retornar \"Hello, how are you?\""
   ]
  },
  {
   "cell_type": "code",
   "execution_count": 59,
   "metadata": {},
   "outputs": [],
   "source": [
    "translate_udf = F.udf(translate_text, T.StringType())\n",
    "\n",
    "data = [(\"Hola, ¿cómo estás?\",), (\"Bonjour tout le monde\",), (\"Hello, how are you?\",)]\n",
    "columns = [\"overview\"]\n",
    "df = spark.createDataFrame(data, columns)\n",
    "\n",
    "# Aplicar a função de tradução na coluna 'overview'\n",
    "df_translated = df.withColumn(\"overview_translated\", translate_udf(df[\"overview\"]))\n"
   ]
  },
  {
   "cell_type": "code",
   "execution_count": 60,
   "metadata": {},
   "outputs": [
    {
     "name": "stderr",
     "output_type": "stream",
     "text": [
      "[Stage 116:======================================>                  (2 + 1) / 3]\r"
     ]
    },
    {
     "name": "stdout",
     "output_type": "stream",
     "text": [
      "+---------------------+-------------------+\n",
      "|overview             |overview_translated|\n",
      "+---------------------+-------------------+\n",
      "|Hola, ¿cómo estás?   |Hello how are you? |\n",
      "|Bonjour tout le monde|Hello everyone     |\n",
      "|Hello, how are you?  |Hello, how are you?|\n",
      "+---------------------+-------------------+\n",
      "\n"
     ]
    },
    {
     "name": "stderr",
     "output_type": "stream",
     "text": [
      "                                                                                \r"
     ]
    }
   ],
   "source": [
    "df_translated.show(truncate=False)"
   ]
  }
 ],
 "metadata": {
  "kernelspec": {
   "display_name": ".venv",
   "language": "python",
   "name": "python3"
  },
  "language_info": {
   "codemirror_mode": {
    "name": "ipython",
    "version": 3
   },
   "file_extension": ".py",
   "mimetype": "text/x-python",
   "name": "python",
   "nbconvert_exporter": "python",
   "pygments_lexer": "ipython3",
   "version": "3.11.9"
  }
 },
 "nbformat": 4,
 "nbformat_minor": 2
}
