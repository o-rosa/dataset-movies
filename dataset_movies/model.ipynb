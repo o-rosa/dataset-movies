{
 "cells": [
  {
   "cell_type": "code",
   "execution_count": 1,
   "metadata": {},
   "outputs": [],
   "source": [
    "import pandas as pd\n",
    "import glob\n",
    "import os\n",
    "import numpy as np\n",
    "from sklearn.preprocessing import MinMaxScaler\n",
    "from tabulate import tabulate\n",
    "from sklearn.linear_model import LinearRegression\n",
    "from sklearn.metrics import mean_squared_error"
   ]
  },
  {
   "cell_type": "code",
   "execution_count": 9,
   "metadata": {},
   "outputs": [],
   "source": [
    "\n",
    "\n",
    "\n",
    "generos = ['Action', 'Adventure', 'Animation', 'Comedy', 'Crime', 'Documentary', 'Drama', 'Family', 'Fantasy', 'Foreign', 'History', 'Horror', 'Music', 'Mystery', 'Romance', 'ScienceFiction', 'TVMovie', 'Thriller', 'War', 'Western']\n",
    "\n",
    "def read_parquet():\n",
    "    pasta = '../output-treino'\n",
    "    arquivos_parquet = glob.glob(os.path.join(pasta, '*.parquet'))\n",
    "    lista_df = [pd.read_parquet(arquivo) for arquivo in arquivos_parquet]\n",
    "    df = pd.concat(lista_df, ignore_index=True)\n",
    "    return df\n",
    "\n",
    "def normaliza_array(df, array_col):\n",
    "    matrix = np.vstack(df[array_col].values)\n",
    "    matrix_normalized = MinMaxScaler().fit_transform(matrix)\n",
    "    df[array_col] = list(matrix_normalized)\n",
    "    return df\n",
    "\n",
    "def array_to_column(df, array_col, prefixo):\n",
    "    nome_cols = [f'{prefixo}{g}' for g in generos]\n",
    "    \n",
    "    arrays_df = pd.DataFrame(df[array_col].tolist(), index=df.index, columns=nome_cols)\n",
    "    \n",
    "    return pd.concat([df.drop(array_col, axis=1), arrays_df], axis=1)\n",
    "\n",
    "def treino_teste(df, percent):\n",
    "    df = df.sort_values(by='timestamp')\n",
    "    cutoff_index = int(len(df) * percent)\n",
    "    cutoff_timestamp = df.iloc[cutoff_index]['timestamp']\n",
    "    df_train = df[df['timestamp'] <= cutoff_timestamp]\n",
    "    df_test = df[df['timestamp'] > cutoff_timestamp]\n",
    "    return df_train, df_test\n",
    "\n",
    "\n",
    "\n",
    "\n",
    "\n",
    "\n",
    "df_parquet = read_parquet()\n",
    "# df_parquet = df_parquet.sample(frac=0.2)\n",
    "df_parquet = normaliza_array(df_parquet,'user_genero_count')\n",
    "df_parquet = array_to_column(df_parquet,'user_genero_avg', 'avg_')\n",
    "df_parquet = array_to_column(df_parquet,'user_genero_count', 'count_')\n",
    "df_parquet = array_to_column(df_parquet,'generos_movie', '')\n",
    "\n",
    "\n",
    "df_train, df_test = treino_teste(df_parquet, 0.9)"
   ]
  },
  {
   "cell_type": "code",
   "execution_count": 3,
   "metadata": {},
   "outputs": [],
   "source": [
    "no_feature = ['imdbId', 'timestamp', 'userId', 'movieId', 'rating', 'tmdbId']\n",
    "label = 'rating'\n",
    "generical_features = ['movie_popularity', 'movie_overall_grade']"
   ]
  },
  {
   "cell_type": "code",
   "execution_count": 22,
   "metadata": {},
   "outputs": [],
   "source": [
    "# teste com todas features\n",
    "\n",
    "X_train = df_train.drop(columns=no_feature)\n",
    "y_train = df_train[label]\n",
    "\n",
    "X_test = df_test.drop(columns=no_feature)\n",
    "y_test = df_test[label]"
   ]
  },
  {
   "cell_type": "code",
   "execution_count": 20,
   "metadata": {},
   "outputs": [],
   "source": [
    "# # só features especificas do usuario\n",
    "# X_train = X_train.drop(columns=generical_features)\n",
    "# X_test = X_test.drop(columns=generical_features)\n",
    "\n",
    "# # só features genericas\n",
    "# X_train = df_train[generical_features]\n",
    "# X_test = df_test[generical_features]"
   ]
  },
  {
   "cell_type": "code",
   "execution_count": 23,
   "metadata": {},
   "outputs": [
    {
     "name": "stdout",
     "output_type": "stream",
     "text": [
      "Mean Squared Error: 0.8617931628821122\n"
     ]
    }
   ],
   "source": [
    "# Treinamento do modelo de regressão\n",
    "model = LinearRegression()\n",
    "model.fit(X_train, y_train)\n",
    "\n",
    "# Avaliação do modelo\n",
    "y_pred = model.predict(X_test)\n",
    "mse = mean_squared_error(y_test, y_pred)\n",
    "print(f'Mean Squared Error: {mse}')"
   ]
  },
  {
   "cell_type": "code",
   "execution_count": 30,
   "metadata": {},
   "outputs": [],
   "source": [
    "# selecionar um usuário no teste com varios filmes e fazer o raking\n",
    "df_user = df_test.iloc[[99]]\n",
    "user_id = df_user['userId'].tolist()[0]\n",
    "df_movies_user = df_test[df_test['userId'] == user_id]\n",
    "Y_user = df_movies_user[label]\n",
    "X_user = df_movies_user.drop(columns=no_feature)\n",
    "user_predictions = model.predict(X_user)"
   ]
  },
  {
   "cell_type": "code",
   "execution_count": 31,
   "metadata": {},
   "outputs": [
    {
     "name": "stdout",
     "output_type": "stream",
     "text": [
      "       movieId  predicted_rating Y_user\n",
      "7183       858          4.702253    5.0\n",
      "113329    1221          4.614078    5.0\n",
      "160164     356          4.497683    5.0\n",
      "98780     1196          4.475279    5.0\n",
      "275482     260          4.431191    5.0\n",
      "81021     1222          4.416378    4.0\n",
      "252479    2194          4.391864    4.0\n",
      "30102     1201          4.391606    5.0\n",
      "216563    2858          4.374094    4.0\n",
      "128928    2571          4.310223    4.0\n",
      "145959    1954          4.303096    5.0\n",
      "16092     1262          4.290017    4.0\n",
      "192718     110          4.285073    3.0\n",
      "77118     1291          4.203509    5.0\n",
      "137628    1242          4.202174    3.0\n",
      "213733    1304          4.177406    4.0\n",
      "193289     590          4.169967    5.0\n",
      "130420    2529          4.154037    4.0\n",
      "257418    1036          4.151866    4.0\n",
      "73081     1198          4.148341    5.0\n",
      "287858    2951          4.133528    4.0\n",
      "42920     1200          4.111210    4.0\n",
      "35374     1220          4.099628    4.0\n",
      "269566    1197          4.083842    5.0\n",
      "109521    2871          4.075580    4.0\n",
      "40985     1387          4.062795    3.0\n",
      "231084     457          4.051201    5.0\n",
      "211240    2916          4.039754    5.0\n",
      "170604    2947          4.014838    4.0\n",
      "207450    1408          3.964614    4.0\n",
      "286863    2985          3.924510    3.0\n",
      "112839    2000          3.921274    4.0\n",
      "224704    2948          3.917238    4.0\n",
      "95040     1356          3.874913    4.0\n",
      "4225      1210          3.865868    5.0\n",
      "34340     2949          3.857360    4.0\n",
      "124531    3029          3.834349    3.0\n",
      "217688     733          3.829880    4.0\n",
      "272210     380          3.823961    4.0\n",
      "231385    2763          3.809145    3.0\n",
      "119746    2640          3.799878    4.0\n",
      "211113    1580          3.772913    3.0\n",
      "227355    2414          3.766463    4.0\n",
      "103971    2993          3.726842    3.0\n",
      "181563    2991          3.632481    4.0\n",
      "149884     329          3.615236    4.0\n",
      "265872    1663          3.474262    4.0\n",
      "40708       46          3.429581    2.0\n",
      "61996      802          3.407927    3.0\n",
      "171836    2628          3.355456    4.0\n"
     ]
    }
   ],
   "source": [
    "\n",
    "user_predictions_df = pd.DataFrame({\n",
    "    'movieId': df_movies_user['movieId'],\n",
    "    'predicted_rating': user_predictions,\n",
    "    'Y_user': Y_user\n",
    "})\n",
    "\n",
    "# Gerando o ranking dos filmes com base nas previsões\n",
    "user_ranking = user_predictions_df.sort_values(by='predicted_rating', ascending=False)\n",
    "print(user_ranking.head(50))\n"
   ]
  },
  {
   "cell_type": "code",
   "execution_count": null,
   "metadata": {},
   "outputs": [],
   "source": [
    "# vies de raking\n",
    "# geração de candidatos\n",
    "# ndcg"
   ]
  }
 ],
 "metadata": {
  "kernelspec": {
   "display_name": "venv",
   "language": "python",
   "name": "python3"
  },
  "language_info": {
   "codemirror_mode": {
    "name": "ipython",
    "version": 3
   },
   "file_extension": ".py",
   "mimetype": "text/x-python",
   "name": "python",
   "nbconvert_exporter": "python",
   "pygments_lexer": "ipython3",
   "version": "3.9.16"
  }
 },
 "nbformat": 4,
 "nbformat_minor": 2
}
