{
 "cells": [
  {
   "cell_type": "code",
   "execution_count": 1,
   "metadata": {},
   "outputs": [],
   "source": [
    "from pyspark.sql import SparkSession\n",
    "from pyspark.sql import functions as F\n",
    "import os\n",
    "\n",
    "spark = SparkSession.builder.master(\"local\").appName(\"Test\").getOrCreate()\n"
   ]
  },
  {
   "cell_type": "code",
   "execution_count": 2,
   "metadata": {},
   "outputs": [],
   "source": [
    "movies_metadata_path = '../input/movies_metadata.csv'\n",
    "df_movies = spark.read.csv(movies_metadata_path, header=True)\n"
   ]
  },
  {
   "cell_type": "code",
   "execution_count": 3,
   "metadata": {},
   "outputs": [],
   "source": [
    "df_geral = (\n",
    "  df_movies\n",
    "  .withColumn(\"imdbId\", F.substring(F.col(\"imdb_id\"), 3, 1000))# tirando tt\n",
    "  .select(\"imdbId\",\"popularity\")\n",
    "  .withColumn('popularity', F.log1p(F.col('popularity').cast(\"float\")))\n",
    "  .dropna()\n",
    ")"
   ]
  },
  {
   "cell_type": "code",
   "execution_count": 4,
   "metadata": {},
   "outputs": [],
   "source": [
    "df_top_movies = (\n",
    "  df_geral\n",
    "  .withColumn(\"top_movies\", F.round(F.when(F.col(\"popularity\")> 3, F.lit(1)).otherwise(F.col(\"popularity\")/3),4))\n",
    "  .filter(F.col('top_movies') == 1)\n",
    "  .select(\"imdbId\")\n",
    ")"
   ]
  },
  {
   "cell_type": "code",
   "execution_count": 5,
   "metadata": {},
   "outputs": [
    {
     "name": "stdout",
     "output_type": "stream",
     "text": [
      "+-------+\n",
      "|imdbId |\n",
      "+-------+\n",
      "|0114709|\n",
      "|0112573|\n",
      "|0076759|\n",
      "|0110912|\n",
      "|0111161|\n",
      "|0109830|\n",
      "|0110357|\n",
      "|0108052|\n",
      "|0083658|\n",
      "|0103064|\n",
      "|0096895|\n",
      "|0101414|\n",
      "|0116136|\n",
      "|0117951|\n",
      "|0068646|\n",
      "|0032138|\n",
      "|0062622|\n",
      "|0083866|\n",
      "|0092099|\n",
      "|0073486|\n",
      "+-------+\n",
      "only showing top 20 rows\n",
      "\n"
     ]
    }
   ],
   "source": [
    "df_top_movies.show(truncate=False)"
   ]
  },
  {
   "cell_type": "code",
   "execution_count": 9,
   "metadata": {},
   "outputs": [],
   "source": [
    "geracao_path = os.path.join('..','geracao_candidatos')\n",
    "df_top_movies.repartition(5).write.mode('overwrite').parquet(geracao_path)"
   ]
  },
  {
   "cell_type": "code",
   "execution_count": null,
   "metadata": {},
   "outputs": [],
   "source": []
  }
 ],
 "metadata": {
  "kernelspec": {
   "display_name": ".venv",
   "language": "python",
   "name": "python3"
  },
  "language_info": {
   "codemirror_mode": {
    "name": "ipython",
    "version": 3
   },
   "file_extension": ".py",
   "mimetype": "text/x-python",
   "name": "python",
   "nbconvert_exporter": "python",
   "pygments_lexer": "ipython3",
   "version": "3.9.12"
  }
 },
 "nbformat": 4,
 "nbformat_minor": 2
}
