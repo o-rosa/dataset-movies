{
 "cells": [
  {
   "cell_type": "code",
   "execution_count": 24,
   "metadata": {},
   "outputs": [],
   "source": [
    "import pandas as pd\n",
    "import glob\n",
    "import os\n",
    "import numpy as np\n",
    "from sklearn.model_selection import train_test_split\n",
    "from imblearn.under_sampling import RandomUnderSampler\n",
    "from sklearn.metrics import accuracy_score\n",
    "from sklearn.ensemble import RandomForestClassifier\n",
    "from sklearn.metrics import classification_report\n",
    "from sklearn.naive_bayes import CategoricalNB\n",
    "from sklearn.metrics import accuracy_score, classification_report"
   ]
  },
  {
   "cell_type": "code",
   "execution_count": 31,
   "metadata": {},
   "outputs": [],
   "source": [
    "generos = ['Action', 'Adventure', 'Animation', 'Comedy', 'Crime', 'Documentary', 'Drama', 'Family', 'Fantasy', 'Foreign', 'History', 'Horror', 'Music', 'Mystery', 'Romance', 'ScienceFiction', 'TVMovie', 'Thriller', 'War', 'Western']\n",
    "\n",
    "def read_parquet(pasta):\n",
    "    arquivos_parquet = glob.glob(os.path.join(pasta, '*.parquet'))\n",
    "    lista_df = [pd.read_parquet(arquivo) for arquivo in arquivos_parquet]\n",
    "    df = pd.concat(lista_df, ignore_index=True)\n",
    "    return df"
   ]
  },
  {
   "cell_type": "code",
   "execution_count": 46,
   "metadata": {},
   "outputs": [],
   "source": [
    "df_parquet = read_parquet('./preprocess/movies')[generos]\n",
    "label = 'Action'\n",
    "features = generos.copy()\n",
    "features.remove(label)"
   ]
  },
  {
   "cell_type": "code",
   "execution_count": 47,
   "metadata": {},
   "outputs": [
    {
     "name": "stdout",
     "output_type": "stream",
     "text": [
      "Antes do Undersampling: 38538\n",
      "Depois do Undersampling: 8391\n"
     ]
    }
   ],
   "source": [
    "print(\"Antes do Undersampling: {}\".format(len(df_parquet)))\n",
    "\n",
    "rus = RandomUnderSampler(random_state=42)\n",
    "X, y = rus.fit_resample(df_parquet[features], df_parquet[label])\n",
    "\n",
    "print(\"Depois do Undersampling: {}\".format(len(X_train)))"
   ]
  },
  {
   "cell_type": "code",
   "execution_count": 48,
   "metadata": {},
   "outputs": [
    {
     "name": "stdout",
     "output_type": "stream",
     "text": [
      "Os 5 gêneros mais relevantes são: ['Adventure' 'Documentary' 'Romance' 'ScienceFiction' 'Thriller']\n"
     ]
    }
   ],
   "source": [
    "from sklearn.feature_selection import SelectKBest, chi2\n",
    "\n",
    "# Seleção das melhores características\n",
    "selector = SelectKBest(chi2, k=5)\n",
    "selector.fit(X, y)\n",
    "\n",
    "generos_selecionados = selector.get_feature_names_out()\n",
    "print(\"Os 5 gêneros mais relevantes são:\", generos_selecionados)"
   ]
  },
  {
   "cell_type": "code",
   "execution_count": 39,
   "metadata": {},
   "outputs": [
    {
     "name": "stdout",
     "output_type": "stream",
     "text": [
      "            Gênero  Importância\n",
      "0        Adventure     0.179746\n",
      "16        Thriller     0.100933\n",
      "4      Documentary     0.099970\n",
      "10          Horror     0.071353\n",
      "5            Drama     0.068280\n",
      "2           Comedy     0.067680\n",
      "3            Crime     0.061278\n",
      "14  ScienceFiction     0.052271\n",
      "13         Romance     0.050315\n",
      "12         Mystery     0.041129\n",
      "18         Western     0.036408\n",
      "6           Family     0.031501\n",
      "1        Animation     0.024399\n",
      "7          Fantasy     0.023804\n",
      "11           Music     0.021680\n",
      "8          Foreign     0.021641\n",
      "17             War     0.019565\n",
      "9          History     0.014781\n",
      "15         TVMovie     0.013268\n",
      "Gêneros selecionados com base no threshold:\n",
      "0       Adventure\n",
      "16       Thriller\n",
      "4     Documentary\n",
      "10         Horror\n",
      "5           Drama\n",
      "2          Comedy\n",
      "3           Crime\n",
      "Name: Gênero, dtype: object\n"
     ]
    }
   ],
   "source": [
    "# Definir e treinar o modelo Random Forest\n",
    "model = RandomForestClassifier(criterion='entropy',random_state=42)\n",
    "model.fit(X, y)\n",
    "\n",
    "# Obter a importância das features\n",
    "importances = model.feature_importances_\n",
    "\n",
    "# Criar um dataframe para visualizar as importâncias\n",
    "importancia_df = pd.DataFrame({'Gênero': features, 'Importância': importances})\n",
    "\n",
    "# Ordenar as importâncias do maior para o menor\n",
    "importancia_ordenada = importancia_df.sort_values(by='Importância', ascending=False)\n",
    "print(importancia_ordenada)\n",
    "\n",
    "# Definir um threshold (por exemplo, selecionar importância acima de 0.05)\n",
    "threshold = 0.06\n",
    "generos_selecionados = importancia_ordenada[importancia_ordenada['Importância'] > threshold]\n",
    "\n",
    "# Gêneros selecionados\n",
    "print(\"Gêneros selecionados com base no threshold:\")\n",
    "print(generos_selecionados['Gênero'])\n",
    "X = X[generos_selecionados['Gênero']]\n"
   ]
  },
  {
   "cell_type": "code",
   "execution_count": 49,
   "metadata": {},
   "outputs": [],
   "source": [
    "X_train, X_test, y_train, y_test = train_test_split(X, y, test_size=0.3, random_state=42, stratify=y)"
   ]
  },
  {
   "cell_type": "code",
   "execution_count": 50,
   "metadata": {},
   "outputs": [
    {
     "name": "stdout",
     "output_type": "stream",
     "text": [
      "Accuracy: 0.7428412566027245\n",
      "Classification Report:\n",
      "               precision    recall  f1-score   support\n",
      "\n",
      "           0       0.74      0.76      0.75      1799\n",
      "           1       0.75      0.73      0.74      1798\n",
      "\n",
      "    accuracy                           0.74      3597\n",
      "   macro avg       0.74      0.74      0.74      3597\n",
      "weighted avg       0.74      0.74      0.74      3597\n",
      "\n"
     ]
    }
   ],
   "source": [
    "model = CategoricalNB()\n",
    "model.fit(X_train, y_train)\n",
    "\n",
    "y_pred = model.predict(X_test)\n",
    "print(\"Accuracy:\", accuracy_score(y_test, y_pred))\n",
    "print(\"Classification Report:\\n\", classification_report(y_test, y_pred))\n",
    "\n"
   ]
  },
  {
   "cell_type": "code",
   "execution_count": null,
   "metadata": {},
   "outputs": [],
   "source": []
  }
 ],
 "metadata": {
  "kernelspec": {
   "display_name": "Python 3",
   "language": "python",
   "name": "python3"
  },
  "language_info": {
   "codemirror_mode": {
    "name": "ipython",
    "version": 3
   },
   "file_extension": ".py",
   "mimetype": "text/x-python",
   "name": "python",
   "nbconvert_exporter": "python",
   "pygments_lexer": "ipython3",
   "version": "3.11.9"
  }
 },
 "nbformat": 4,
 "nbformat_minor": 2
}
