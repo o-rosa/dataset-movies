{
 "cells": [
  {
   "cell_type": "code",
   "execution_count": 56,
   "metadata": {},
   "outputs": [],
   "source": [
    "import pandas as pd\n",
    "import glob\n",
    "import os\n",
    "import numpy as np\n",
    "from sklearn.model_selection import train_test_split\n",
    "from imblearn.under_sampling import RandomUnderSampler\n",
    "from sklearn.metrics import accuracy_score\n",
    "from sklearn.ensemble import RandomForestClassifier\n",
    "from sklearn.metrics import classification_report\n",
    "from sklearn.naive_bayes import CategoricalNB\n",
    "from sklearn.metrics import accuracy_score, classification_report\n",
    "from sklearn.decomposition import PCA\n",
    "import matplotlib.pyplot as plt\n"
   ]
  },
  {
   "cell_type": "code",
   "execution_count": 50,
   "metadata": {},
   "outputs": [],
   "source": [
    "# generos = ['Action', 'Adventure', 'Animation', 'Comedy', 'Crime', 'Documentary', 'Drama', 'Family', 'Fantasy', 'Foreign', 'History', 'Horror', 'Music', 'Mystery', 'Romance', 'ScienceFiction', 'TVMovie', 'Thriller', 'War', 'Western']\n",
    "# generos = ['Action', 'Adventure', 'Documentary', 'Romance', 'ScienceFiction', 'Thriller'] # SelectKBest\n",
    "generos = ['Action', 'Adventure','Thriller','Documentary','Horror','Drama'] # RandomForestClassifier\n",
    "\n",
    "def read_parquet(pasta):\n",
    "    arquivos_parquet = glob.glob(os.path.join(pasta, '*.parquet'))\n",
    "    lista_df = [pd.read_parquet(arquivo) for arquivo in arquivos_parquet]\n",
    "    df = pd.concat(lista_df, ignore_index=True)\n",
    "    return df"
   ]
  },
  {
   "cell_type": "code",
   "execution_count": 51,
   "metadata": {},
   "outputs": [],
   "source": [
    "df_parquet = read_parquet('./preprocess/movies')[generos]\n",
    "label = 'Action'\n",
    "features = generos.copy()\n",
    "features.remove(label)"
   ]
  },
  {
   "cell_type": "code",
   "execution_count": 52,
   "metadata": {},
   "outputs": [],
   "source": [
    "X_train, X_test, y_train, y_test = train_test_split(df_parquet[features], df_parquet[label], test_size=0.3, random_state=42, stratify=df_parquet[label])"
   ]
  },
  {
   "cell_type": "code",
   "execution_count": 53,
   "metadata": {},
   "outputs": [
    {
     "name": "stdout",
     "output_type": "stream",
     "text": [
      "Média de Precisão: 0.8231 ± 0.0059\n",
      "Média de Revocação: 0.7760 ± 0.0061\n",
      "Média de F1-Score: 0.7942 ± 0.0057\n",
      "Média de Acurácia: 0.7760 ± 0.0061\n",
      "Melhor alpha encontrado: 10\n"
     ]
    }
   ],
   "source": [
    "from sklearn.model_selection import StratifiedKFold, GridSearchCV\n",
    "from imblearn.under_sampling import RandomUnderSampler\n",
    "from sklearn.decomposition import PCA\n",
    "from sklearn.naive_bayes import CategoricalNB, GaussianNB\n",
    "from sklearn.preprocessing import MinMaxScaler\n",
    "from sklearn.metrics import precision_score, recall_score, f1_score, accuracy_score, make_scorer\n",
    "# Definindo o número de folds\n",
    "k = 10\n",
    "skf = StratifiedKFold(n_splits=k)\n",
    "\n",
    "# Definindo os valores de alpha para testar\n",
    "param_grid = {'alpha': [1, 5, 10, 15, 20, 30, 50, 100]}\n",
    "# param_grid = {'var_smoothing': [ 1e-100000, 1e-5000,1e-150, 1e-80, 1e-50, 1e-30, 1e-20, 1e-15, 1e-10, 1e-9, 1e-7]}\n",
    "\n",
    "# Definindo a métrica de avaliação como precisão\n",
    "scorer = make_scorer(precision_score, average='weighted')\n",
    "\n",
    "# Inicializando o modelo CategoricalNB ou GaussianNB\n",
    "model = CategoricalNB()\n",
    "\n",
    "# Aplicando GridSearchCV com StratifiedKFold para encontrar o melhor hiperparâmetro\n",
    "grid_search = GridSearchCV(estimator=model, param_grid=param_grid, cv=skf, scoring=scorer)\n",
    "\n",
    "# Lista para armazenar as precisões\n",
    "precisions = []\n",
    "recalls = []\n",
    "f1_scores = []\n",
    "accuracies = []\n",
    "\n",
    "# Iterando sobre os folds\n",
    "for train_index, val_index in skf.split(X_train, y_train):\n",
    "    # Separação entre treinamento e validação\n",
    "    X_train_fold, X_val_fold = X_train.iloc[train_index], X_train.iloc[val_index]\n",
    "    y_train_fold, y_val_fold = y_train.iloc[train_index], y_train.iloc[val_index]\n",
    "    \n",
    "    # Balanceamento com Random Under Sampler (RUS)\n",
    "    rus = RandomUnderSampler(random_state=42)\n",
    "    X_train_fold, y_train_fold = rus.fit_resample(X_train_fold, y_train_fold)\n",
    "\n",
    "    '''\n",
    "    # Redução de dimensionalidade com PCA\n",
    "    pca = PCA(n_components=10)\n",
    "    X_train_fold = pca.fit_transform(X_train_fold)\n",
    "    X_val_fold = pca.transform(X_val_fold)\n",
    "\n",
    "    scaler_normalize = MinMaxScaler()\n",
    "    X_train_fold = scaler_normalize.fit_transform(X_train_fold)\n",
    "    X_val_fold = scaler_normalize.transform(X_val_fold)\n",
    "    '''\n",
    "\n",
    "    # Aplicando GridSearch para encontrar o melhor alpha\n",
    "    grid_search.fit(X_train_fold, y_train_fold)\n",
    "    \n",
    "    # Melhor estimador encontrado pelo GridSearch\n",
    "    best_model = grid_search.best_estimator_\n",
    "    \n",
    "    # Previsões no conjunto de validação com o melhor modelo\n",
    "    y_pred = best_model.predict(X_val_fold)\n",
    "    \n",
    "    # Cálculo da precisão\n",
    "    precision = precision_score(y_val_fold, y_pred, average='weighted')\n",
    "    recall = recall_score(y_val_fold, y_pred, average='weighted')\n",
    "    f1 = f1_score(y_val_fold, y_pred, average='weighted')\n",
    "    accuracy = accuracy_score(y_val_fold, y_pred)\n",
    "\n",
    "    precisions.append(precision)\n",
    "    recalls.append(recall)\n",
    "    f1_scores.append(f1)\n",
    "    accuracies.append(accuracy)\n",
    "\n",
    "\n",
    "# Média da precisão através dos folds\n",
    "mean_precision = sum(precisions) / k\n",
    "mean_recall = sum(recalls) / k\n",
    "mean_f1 = sum(f1_scores) / k\n",
    "mean_accuracy = sum(accuracies) / k\n",
    "\n",
    "# Desvio padrão das métricas através dos folds\n",
    "std_precision = np.std(precisions)\n",
    "std_recall = np.std(recalls)\n",
    "std_f1 = np.std(f1_scores)\n",
    "std_accuracy = np.std(accuracies)\n",
    "\n",
    "print(f'Média de Precisão: {mean_precision:.4f} ± {std_precision:.4f}')\n",
    "print(f'Média de Revocação: {mean_recall:.4f} ± {std_recall:.4f}')\n",
    "print(f'Média de F1-Score: {mean_f1:.4f} ± {std_f1:.4f}')\n",
    "print(f'Média de Acurácia: {mean_accuracy:.4f} ± {std_accuracy:.4f}')\n",
    "print(f'Melhor alpha encontrado: {grid_search.best_params_[\"alpha\"]}')\n"
   ]
  },
  {
   "cell_type": "code",
   "execution_count": null,
   "metadata": {},
   "outputs": [],
   "source": []
  },
  {
   "cell_type": "code",
   "execution_count": 54,
   "metadata": {},
   "outputs": [],
   "source": [
    "dataNB = {\n",
    "    \"Todas Features\":{\n",
    "        \"mean_f1\": 0.78,\n",
    "        \"std_f1\": 0.0052,\n",
    "        \"mean_accuracy\": 0.75,\n",
    "        \"std_accuracy\": 0.0062,\n",
    "        \"mean_recall\": 0.75,\n",
    "        \"std_recall\": 0.0062,\n",
    "        \"mean_precision\": 0.84,\n",
    "        \"std_precision\": 0.0043\n",
    "    },\n",
    "    \"PCA\":{\n",
    "        \"mean_f1\": 0.76,\n",
    "        \"std_f1\": 0.0123,\n",
    "        \"mean_accuracy\": 0.73,\n",
    "        \"std_accuracy\": 0.0160,\n",
    "        \"mean_recall\": 0.73,\n",
    "        \"std_recall\": 0.0160,\n",
    "        \"mean_precision\": 0.83,\n",
    "        \"std_precision\": 0.0049\n",
    "    },\n",
    "    \"SelectKBest\":{\n",
    "        \"mean_f1\": 0.78,\n",
    "        \"std_f1\": 0.0046,\n",
    "        \"mean_accuracy\": 0.75,\n",
    "        \"std_accuracy\": 0.0053,\n",
    "        \"mean_recall\": 0.75,\n",
    "        \"std_recall\": 0.0053,\n",
    "        \"mean_precision\": 0.82,\n",
    "        \"std_precision\":0.0048\n",
    "    },\n",
    "    \"RandomForestClassifier\":{\n",
    "        \"mean_f1\": 0.77,\n",
    "        \"std_f1\": 0.0061,\n",
    "        \"mean_accuracy\": 0.79,\n",
    "        \"std_accuracy\": 0.0057,\n",
    "        \"mean_recall\": 0.77,\n",
    "        \"std_recall\": 0.0061,\n",
    "        \"mean_precision\": 0.82,\n",
    "        \"std_precision\":0.0059\n",
    "    }\n",
    "}"
   ]
  },
  {
   "cell_type": "code",
   "execution_count": 70,
   "metadata": {},
   "outputs": [
    {
     "data": {
      "image/png": "[encoded data removed]",
      "text/plain": [
       "<Figure size 640x480 with 1 Axes>"
      ]
     },
     "metadata": {},
     "output_type": "display_data"
    }
   ],
   "source": [
    "methods = list(dataNB.keys())\n",
    "mean_f1 = [dataNB[method][\"mean_precision\"] for method in methods]\n",
    "std_f1 = [dataNB[method][\"std_precision\"] for method in methods]\n",
    "\n",
    "# Configuração do gráfico\n",
    "x_pos = np.arange(len(methods))\n",
    "\n",
    "fig, ax = plt.subplots()\n",
    "\n",
    "# Criando o gráfico de barras\n",
    "ax.bar(x_pos, mean_f1, yerr=std_f1, align='center', alpha=0.7, ecolor='black', capsize=10)\n",
    "ax.set_ylabel('Precisão')\n",
    "ax.set_xticks(x_pos)\n",
    "ax.set_xticklabels(methods)\n",
    "ax.set_title('Precisão para Cada Redução de Dimensionalidade')\n",
    "ax.yaxis.grid(True)\n",
    "ax.set_ylim([0.8, 0.9])\n",
    "\n",
    "# Exibindo o gráfico\n",
    "plt.tight_layout()\n",
    "plt.show()\n"
   ]
  },
  {
   "cell_type": "code",
   "execution_count": null,
   "metadata": {},
   "outputs": [],
   "source": []
  }
 ],
 "metadata": {
  "kernelspec": {
   "display_name": ".venv",
   "language": "python",
   "name": "python3"
  },
  "language_info": {
   "codemirror_mode": {
    "name": "ipython",
    "version": 3
   },
   "file_extension": ".py",
   "mimetype": "text/x-python",
   "name": "python",
   "nbconvert_exporter": "python",
   "pygments_lexer": "ipython3",
   "version": "3.11.9"
  }
 },
 "nbformat": 4,
 "nbformat_minor": 2
}
