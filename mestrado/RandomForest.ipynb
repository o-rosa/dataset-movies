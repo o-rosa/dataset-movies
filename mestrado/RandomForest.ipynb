{
 "cells": [
  {
   "cell_type": "code",
   "execution_count": null,
   "metadata": {},
   "outputs": [],
   "source": [
    "import pandas as pd\n",
    "import glob\n",
    "import os\n",
    "import numpy as np\n",
    "from sklearn.model_selection import train_test_split\n",
    "from imblearn.under_sampling import RandomUnderSampler\n",
    "from sklearn.ensemble import RandomForestClassifier\n",
    "from sklearn.metrics import classification_report\n",
    "from sklearn.metrics import accuracy_score, classification_report\n",
    "from sklearn.decomposition import PCA"
   ]
  },
  {
   "cell_type": "code",
   "execution_count": null,
   "metadata": {},
   "outputs": [],
   "source": [
    "generos = ['Action', 'Adventure', 'Animation', 'Comedy', 'Crime', 'Documentary', 'Drama', 'Family', 'Fantasy', 'Foreign', 'History', 'Horror', 'Music', 'Mystery', 'Romance', 'ScienceFiction', 'TVMovie', 'Thriller', 'War', 'Western']\n",
    "\n",
    "def read_parquet(pasta):\n",
    "    arquivos_parquet = glob.glob(os.path.join(pasta, '*.parquet'))\n",
    "    lista_df = [pd.read_parquet(arquivo) for arquivo in arquivos_parquet]\n",
    "    df = pd.concat(lista_df, ignore_index=True)\n",
    "    return df"
   ]
  },
  {
   "cell_type": "code",
   "execution_count": null,
   "metadata": {},
   "outputs": [],
   "source": [
    "df_parquet_total = read_parquet('./preprocess/movies')[generos]\n",
    "label = 'Action'\n",
    "features = generos.copy()\n",
    "features.remove(label)"
   ]
  },
  {
   "cell_type": "code",
   "execution_count": null,
   "metadata": {},
   "outputs": [],
   "source": [
    "rus = RandomUnderSampler(random_state=42)\n",
    "X, y = rus.fit_resample(df_parquet[features], df_parquet[label])"
   ]
  },
  {
   "cell_type": "code",
   "execution_count": null,
   "metadata": {},
   "outputs": [],
   "source": [
    "from sklearn.feature_selection import SelectKBest, chi2\n",
    "\n",
    "# Seleção das melhores características\n",
    "selector = SelectKBest(chi2, k=5)\n",
    "selector.fit(X, y)\n",
    "\n",
    "generos_selecionados = selector.get_feature_names_out()\n",
    "print(\"Os 5 gêneros mais relevantes são:\", generos_selecionados)"
   ]
  },
  {
   "cell_type": "code",
   "execution_count": null,
   "metadata": {},
   "outputs": [],
   "source": [
    "# Definir e treinar o modelo Random Forest\n",
    "model = RandomForestClassifier(criterion='entropy',random_state=42)\n",
    "model.fit(X, y)\n",
    "\n",
    "# Obter a importância das features\n",
    "importances = model.feature_importances_\n",
    "\n",
    "# Criar um dataframe para visualizar as importâncias\n",
    "importancia_df = pd.DataFrame({'Gênero': features, 'Importância': importances})\n",
    "\n",
    "# Ordenar as importâncias do maior para o menor\n",
    "importancia_ordenada = importancia_df.sort_values(by='Importância', ascending=False)\n",
    "\n",
    "# Definir um threshold (por exemplo, selecionar importância acima de 0.05)\n",
    "threshold = 0.06\n",
    "generos_selecionados = importancia_ordenada[importancia_ordenada['Importância'] > threshold]"
   ]
  },
  {
   "cell_type": "code",
   "execution_count": null,
   "metadata": {},
   "outputs": [],
   "source": []
  }
 ],
 "metadata": {
  "language_info": {
   "name": "python"
  }
 },
 "nbformat": 4,
 "nbformat_minor": 2
}
