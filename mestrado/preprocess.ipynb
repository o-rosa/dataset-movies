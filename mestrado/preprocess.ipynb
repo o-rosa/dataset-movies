{
 "cells": [
  {
   "cell_type": "code",
   "execution_count": null,
   "metadata": {},
   "outputs": [],
   "source": [
    "from pyspark.sql import SparkSession\n",
    "from pyspark.sql import functions as F\n",
    "from pyspark.sql import types as T\n",
    "import os\n",
    "import matplotlib.pyplot as plt\n",
    "import numpy as np\n",
    "from pyspark.sql.window import Window\n",
    "\n",
    "spark = SparkSession.builder.getOrCreate()\n",
    "DISPLAY = False # True/False para ver os displays"
   ]
  },
  {
   "cell_type": "code",
   "execution_count": null,
   "metadata": {},
   "outputs": [],
   "source": [
    "links_path = '../input/links.csv' # usando small pra ir mais rapido\n",
    "df_links = spark.read.csv(links_path, header=True)\n",
    "\n",
    "ratings_path = '../input/ratings.csv'# usando small pra ir mais rapido\n",
    "df_ratings = spark.read.csv(ratings_path, header=True)\n",
    "\n",
    "movies_metadata_path = '../input/movies_metadata.csv'\n",
    "df_movies = spark.read.csv(movies_metadata_path, header=True)\n",
    "\n",
    "keywords_path = '../input/keywords.csv'\n",
    "df_keywords = spark.read.csv(keywords_path, header=True)\n",
    "\n",
    "credits_path = '../input/credits.csv'\n",
    "df_credits = spark.read.csv(credits_path, header=True)"
   ]
  }
 ],
 "metadata": {
  "language_info": {
   "name": "python"
  }
 },
 "nbformat": 4,
 "nbformat_minor": 2
}
