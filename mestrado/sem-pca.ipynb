{
 "cells": [
  {
   "cell_type": "code",
   "execution_count": 1,
   "metadata": {},
   "outputs": [],
   "source": [
    "import pandas as pd\n",
    "import glob\n",
    "import os\n",
    "import numpy as np\n",
    "from sklearn.model_selection import train_test_split\n",
    "from imblearn.under_sampling import RandomUnderSampler\n",
    "from sklearn.metrics import accuracy_score\n",
    "from sklearn.ensemble import RandomForestClassifier\n",
    "from sklearn.metrics import classification_report"
   ]
  },
  {
   "cell_type": "code",
   "execution_count": 2,
   "metadata": {},
   "outputs": [],
   "source": [
    "generos = ['Action', 'Adventure', 'Animation', 'Comedy', 'Crime', 'Documentary', 'Drama', 'Family', 'Fantasy', 'Foreign', 'History', 'Horror', 'Music', 'Mystery', 'Romance', 'ScienceFiction', 'TVMovie', 'Thriller', 'War', 'Western']\n",
    "\n",
    "def read_parquet(pasta):\n",
    "    arquivos_parquet = glob.glob(os.path.join(pasta, '*.parquet'))\n",
    "    lista_df = [pd.read_parquet(arquivo) for arquivo in arquivos_parquet]\n",
    "    df = pd.concat(lista_df, ignore_index=True)\n",
    "    return df"
   ]
  },
  {
   "cell_type": "code",
   "execution_count": 3,
   "metadata": {},
   "outputs": [],
   "source": [
    "df_parquet = read_parquet('./preprocess/movies')[generos]\n",
    "label = 'Action'\n",
    "features = generos.copy()\n",
    "features.remove(label)"
   ]
  },
  {
   "cell_type": "code",
   "execution_count": 8,
   "metadata": {},
   "outputs": [
    {
     "name": "stdout",
     "output_type": "stream",
     "text": [
      "Antes do Undersampling: 26976\n",
      "Depois do Undersampling: 8392\n"
     ]
    }
   ],
   "source": [
    "X_train, X_test, y_train, y_test = train_test_split(df_parquet[features], df_parquet[label], test_size=0.3, random_state=42, stratify=df_parquet[label])\n",
    "\n",
    "print(\"Antes do Undersampling: {}\".format(len(X_train)))\n",
    "\n",
    "rus = RandomUnderSampler(random_state=42)\n",
    "X_train, y_train = rus.fit_resample(X_train, y_train)\n",
    "\n",
    "print(\"Depois do Undersampling: {}\".format(len(X_train)))"
   ]
  },
  {
   "cell_type": "code",
   "execution_count": 9,
   "metadata": {},
   "outputs": [
    {
     "name": "stdout",
     "output_type": "stream",
     "text": [
      "              precision    recall  f1-score   support\n",
      "\n",
      "           0       0.95      0.77      0.85      9764\n",
      "           1       0.38      0.76      0.51      1798\n",
      "\n",
      "    accuracy                           0.77     11562\n",
      "   macro avg       0.66      0.77      0.68     11562\n",
      "weighted avg       0.86      0.77      0.80     11562\n",
      "\n"
     ]
    }
   ],
   "source": [
    "model = RandomForestClassifier(random_state=42)\n",
    "model.fit(X_train, y_train)\n",
    "\n",
    "# Fazendo previsões\n",
    "y_pred = model.predict(X_test)\n",
    "y_pred = np.where(y_pred < 0.5, 0, 1)\n",
    "\n",
    "# Avaliando o modelo\n",
    "print(classification_report(y_test, y_pred))\n"
   ]
  },
  {
   "cell_type": "code",
   "execution_count": 10,
   "metadata": {},
   "outputs": [
    {
     "name": "stdout",
     "output_type": "stream",
     "text": [
      "Número de instâncias que a predição acertou: 8926\n",
      "Número de instâncias que a predição errou: 2636\n",
      "Acurácia: 0.77\n"
     ]
    }
   ],
   "source": [
    "# Calculando o número de acertos e erros\n",
    "acertos = (y_test == y_pred).sum()\n",
    "erros = (y_test != y_pred).sum()\n",
    "\n",
    "# Imprimindo os resultados\n",
    "print(f\"Número de instâncias que a predição acertou: {acertos}\")\n",
    "print(f\"Número de instâncias que a predição errou: {erros}\")\n",
    "\n",
    "# Alternativamente, você pode usar a acurácia para verificar\n",
    "accuracy = accuracy_score(y_test, y_pred)\n",
    "print(f\"Acurácia: {accuracy:.2f}\")"
   ]
  },
  {
   "cell_type": "code",
   "execution_count": 118,
   "metadata": {},
   "outputs": [
    {
     "name": "stdout",
     "output_type": "stream",
     "text": [
      "       predicted_rating  Y_user\n",
      "6389                  1       1\n",
      "18063                 0       0\n",
      "1337                  1       0\n",
      "21975                 0       0\n",
      "10316                 0       0\n",
      "21477                 1       1\n",
      "22191                 1       0\n",
      "35021                 0       0\n",
      "15770                 0       0\n",
      "35196                 0       1\n",
      "9829                  1       1\n",
      "15648                 0       0\n",
      "32679                 0       0\n",
      "25779                 1       1\n",
      "20682                 1       1\n",
      "24248                 0       0\n",
      "4928                  1       1\n",
      "7967                  0       0\n",
      "23181                 0       0\n",
      "15661                 0       0\n",
      "25045                 0       0\n",
      "25931                 1       1\n",
      "9753                  1       1\n",
      "25330                 1       1\n",
      "23325                 1       0\n",
      "27236                 0       0\n",
      "576                   1       1\n",
      "10738                 0       1\n",
      "10119                 1       1\n",
      "20997                 0       1\n",
      "3277                  0       1\n",
      "37400                 0       0\n",
      "23229                 0       0\n",
      "37174                 0       0\n",
      "4590                  0       0\n",
      "1694                  0       0\n",
      "23998                 1       1\n",
      "21151                 1       1\n",
      "1121                  1       0\n",
      "27604                 1       1\n",
      "24231                 0       0\n",
      "29891                 0       1\n",
      "15704                 1       1\n",
      "29885                 1       1\n",
      "10044                 0       0\n",
      "28875                 1       1\n",
      "30473                 1       1\n",
      "5828                  1       0\n",
      "19073                 0       0\n",
      "10705                 1       0\n"
     ]
    }
   ],
   "source": [
    "predictions_df = pd.DataFrame({\n",
    "    'predicted_rating': y_test,\n",
    "    'Y_user': y_pred\n",
    "})\n",
    "\n",
    "# Gerando o ranking dos filmes com base nas previsões\n",
    "random_sample = predictions_df.sample(n=50, random_state=42)\n",
    "print(random_sample.head(50))"
   ]
  }
 ],
 "metadata": {
  "kernelspec": {
   "display_name": "Python 3",
   "language": "python",
   "name": "python3"
  },
  "language_info": {
   "codemirror_mode": {
    "name": "ipython",
    "version": 3
   },
   "file_extension": ".py",
   "mimetype": "text/x-python",
   "name": "python",
   "nbconvert_exporter": "python",
   "pygments_lexer": "ipython3",
   "version": "3.11.9"
  }
 },
 "nbformat": 4,
 "nbformat_minor": 2
}
