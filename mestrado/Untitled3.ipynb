{
  "nbformat": 4,
  "nbformat_minor": 0,
  "metadata": {
    "colab": {
      "provenance": []
    },
    "kernelspec": {
      "name": "python3",
      "display_name": "Python 3"
    },
    "language_info": {
      "name": "python"
    }
  },
  "cells": [
    {
      "cell_type": "code",
      "execution_count": null,
      "metadata": {
        "colab": {
          "base_uri": "https://localhost:8080/"
        },
        "id": "IpIDgYpOUhJ2",
        "outputId": "1dfeb46b-15de-4d08-f914-c53e75f89c5d"
      },
      "outputs": [
        {
          "output_type": "stream",
          "name": "stdout",
          "text": [
            "Requirement already satisfied: pyspark in /usr/local/lib/python3.10/dist-packages (3.5.2)\n",
            "Requirement already satisfied: py4j==0.10.9.7 in /usr/local/lib/python3.10/dist-packages (from pyspark) (0.10.9.7)\n"
          ]
        }
      ],
      "source": [
        "!pip install pyspark"
      ]
    },
    {
      "cell_type": "code",
      "source": [
        "from pyspark.sql import SparkSession\n",
        "from pyspark.sql import functions as F\n",
        "from pyspark.sql import types as T\n",
        "\n",
        "import matplotlib.pyplot as plt\n",
        "import numpy as np\n",
        "from pyspark.sql.window import Window\n",
        "\n",
        "spark = SparkSession.builder.getOrCreate()\n",
        "DISPLAY = False # True/False para ver os displays"
      ],
      "metadata": {
        "id": "WOIg26wTVibR"
      },
      "execution_count": null,
      "outputs": []
    },
    {
      "cell_type": "code",
      "source": [
        "from google.colab import drive\n",
        "drive.mount('/content/drive')"
      ],
      "metadata": {
        "colab": {
          "base_uri": "https://localhost:8080/"
        },
        "id": "TXtMuT8WVu_R",
        "outputId": "e0f4be14-8579-4d82-9f2a-bff4122cee92"
      },
      "execution_count": null,
      "outputs": [
        {
          "output_type": "stream",
          "name": "stdout",
          "text": [
            "Drive already mounted at /content/drive; to attempt to forcibly remount, call drive.mount(\"/content/drive\", force_remount=True).\n"
          ]
        }
      ]
    },
    {
      "cell_type": "code",
      "source": [
        "# Não manipule diretamente esses df, faça uma copia (ex: df_links_media = df_links)\n",
        "\n",
        "links_path = '/content/drive/MyDrive/ariane/links.csv'\n",
        "df_links = spark.read.csv(links_path, header=True)\n",
        "\n",
        "ratings_path = '/content/drive/MyDrive/ariane/ratings.csv'\n",
        "df_ratings = spark.read.csv(ratings_path, header=True)\n",
        "\n",
        "movies_metadata_path = '/content/drive/MyDrive/ariane/movies_metadata.csv'\n",
        "df_movies = spark.read.csv(movies_metadata_path, header=True)\n",
        "\n",
        "keywords_path = '/content/drive/MyDrive/ariane/keywords.csv'\n",
        "df_keywords = spark.read.csv(keywords_path, header=True)\n",
        "\n",
        "credits_path = '/content/drive/MyDrive/ariane/credits.csv'\n",
        "df_credits = spark.read.csv(credits_path, header=True)"
      ],
      "metadata": {
        "id": "fmQyIgd9WoOj"
      },
      "execution_count": null,
      "outputs": []
    },
    {
      "cell_type": "code",
      "source": [
        "schema = T.ArrayType(T.StructType([\n",
        "    T.StructField(\"id\", T.StringType(), True),\n",
        "    T.StructField(\"name\", T.StringType(), True)\n",
        "]))\n",
        "\n",
        "w = Window().partitionBy('genres_explode.id')\n",
        "\n",
        "df_genero = (\n",
        "  df_movies\n",
        "  .withColumn(\"genres_array\", F.from_json(\"genres\", schema))\n",
        "  .withColumn(\"imdbId\", F.substring(F.col(\"imdb_id\"), 3, 1000))# tirando tt\n",
        "  .filter(F.col('genres_array.name').isNotNull())\n",
        "  .withColumn(\"genres_explode\", F.explode(\"genres_array\"))\n",
        "  .withColumn('num_aparicao', F.count(\"*\").over(w))\n",
        "  .where(F.col(\"num_aparicao\") > 2)\n",
        "  .selectExpr('imdbId', 'genres_explode.name as genero')\n",
        "  .groupBy(\"imdbId\")\n",
        "  .pivot(\"genero\")\n",
        "  .agg(F.lit(1))\n",
        "  .na.fill(0)\n",
        "  .withColumnRenamed('TV Movie', 'TVMovie')\n",
        "  .withColumnRenamed('Science Fiction', 'ScienceFiction')\n",
        ")\n"
      ],
      "metadata": {
        "id": "j3G6SoQzXosO"
      },
      "execution_count": null,
      "outputs": []
    },
    {
      "cell_type": "code",
      "source": [
        "import os"
      ],
      "metadata": {
        "id": "48XqlOm5YKQM"
      },
      "execution_count": null,
      "outputs": []
    },
    {
      "cell_type": "code",
      "source": [
        "df_preprocess_movies = (\n",
        "    df_movies\n",
        "    .withColumn(\"imdbId\", F.substring(F.col(\"imdb_id\"), 3, 1000))# tirando tt\n",
        "    .withColumn(\"adult\", F.when(F.col(\"adult\") == True, 1).otherwise(0))\n",
        "    .withColumn(\"is_valid_title\", F.when((F.col(\"title\").cast(T.StringType()).isNotNull()) & (~F.col(\"title\").rlike(r\"[\\[\\]\\{\\}]\")) & (~F.col(\"title\").rlike(r\"^\\d+(\\.\\d+)?$\")), True).otherwise(False))\n",
        "    .filter(F.col(\"is_valid_title\") == True)\n",
        "    .withColumn(\"is_valid_overview\", F.when((F.col(\"overview\").cast(T.StringType()).isNotNull()) & (~F.col(\"overview\").rlike(r\"[\\[\\]\\{\\}]\")) & (~F.col(\"overview\").rlike(r\"^\\d+(\\.\\d+)?$\")) & (F.length(F.col(\"overview\")) >= 10), True).otherwise(False))\n",
        "    .filter(F.col(\"is_valid_overview\") == True)\n",
        "    .withColumn(\"release_date\", F.to_date(F.col(\"release_date\"), \"yyyy-MM-dd\"))\n",
        "    .withColumn('popularity', F.log1p(F.col('popularity').cast(\"float\")))\n",
        "    .withColumn('vote_average', F.col('vote_average').cast(\"float\"))\n",
        "    .filter((F.col('vote_average') >= 0) & (F.col('vote_average') <= 10))\n",
        "    .withColumn('movie_overall_grade', F.round((F.col(\"vote_average\")/10),2))\n",
        "    .withColumn(\"movie_popularity\", F.round(F.when(F.col(\"popularity\")> 3, F.lit(1)).otherwise(F.col(\"popularity\")/3),4))\n",
        "    .select('imdbId', 'overview', 'adult', 'title', 'release_date',\"movie_popularity\",\"movie_overall_grade\")\n",
        "    .dropna()\n",
        "    .join(df_genero, on=[\"imdbId\"], how=\"inner\")\n",
        ")"
      ],
      "metadata": {
        "id": "Ua1eebU4Xz-9"
      },
      "execution_count": null,
      "outputs": []
    },
    {
      "cell_type": "code",
      "source": [
        "train_path = os.path.join('./preprocess','movies')\n",
        "df_preprocess_movies.repartition(5).write.mode('overwrite').parquet(train_path)"
      ],
      "metadata": {
        "id": "Fyt-vN7HYSwH"
      },
      "execution_count": null,
      "outputs": []
    },
    {
      "cell_type": "code",
      "source": [
        "df_preprocess_movies.show(truncate=False)"
      ],
      "metadata": {
        "colab": {
          "base_uri": "https://localhost:8080/"
        },
        "id": "JHw56_YVY_uH",
        "outputId": "e2e5690b-2273-46a5-da64-6f15d9128f89"
      },
      "execution_count": null,
      "outputs": [
        {
          "output_type": "stream",
          "name": "stdout",
          "text": [
            "+-------+-----------------------------------------------------------------------------------------------------------------------------------------------------------------------------------------------------------------------------------------------------------------------------------------------------------------------------------------------------------------------------------------------------------------------------------------------------------------------------------------------------------------------------------------------------------------------------------------------------------------------------------------------------------------------------------------------------------------------------------------------------------------------------------------------------------+-----+----------------------------------------+------------+----------------+-------------------+------+---------+---------+------+-----+-----------+-----+------+-------+-------+-------+------+-------------+-----+-------+-------+--------------+-------+--------+---+-------+\n",
            "|imdbId |overview                                                                                                                                                                                                                                                                                                                                                                                                                                                                                                                                                                                                                                                                                                                                                                                                   |adult|title                                   |release_date|movie_popularity|movie_overall_grade|Action|Adventure|Animation|Comedy|Crime|Documentary|Drama|Family|Fantasy|Foreign|History|Horror|Miramax Films|Music|Mystery|Romance|ScienceFiction|TVMovie|Thriller|War|Western|\n",
            "+-------+-----------------------------------------------------------------------------------------------------------------------------------------------------------------------------------------------------------------------------------------------------------------------------------------------------------------------------------------------------------------------------------------------------------------------------------------------------------------------------------------------------------------------------------------------------------------------------------------------------------------------------------------------------------------------------------------------------------------------------------------------------------------------------------------------------------+-----+----------------------------------------+------------+----------------+-------------------+------+---------+---------+------+-----+-----------+-----+------+-------+-------+-------+------+-------------+-----+-------+-------+--------------+-------+--------+---+-------+\n",
            "|2114375|Dylan Moran, star of Black Books, Shaun of the Dead and Run Fat Boy Run is about to spread a little happiness with a brand new live DVD for 2011. Ageing, religion, kids and relationships intertwine with the general absurdities of life. Searing observations and sumptuous imagery, painted across a large fraying canvas with cruel, curmudgeonly 'Moranesque' brush strokes are all delivered with Dylan's renowned, shambolic charm… Simply unmissable.                                                                                                                                                                                                                                                                                                                                             |0    |Dylan Moran: Yeah, Yeah                 |2011-11-14  |0.2108          |0.75               |0     |0        |0        |1     |0    |0          |0    |0     |0      |0      |0      |0     |0            |0    |0      |0      |0             |0      |0       |0  |0      |\n",
            "|0089114|The visionary dreams of three curious and adventuresome young boys become an exciting reality in Explorers, the action-fantasy from director Joe Dante, who combines keen humor, warmth and fantasy with unexpected twists. In their makeshift laboratory, the boys use an amazing discovery and their ingenuity to build their own spaceship and launch themselves on a fantastic interplanetary journey.                                                                                                                                                                                                                                                                                                                                                                                                 |0    |Explorers                               |1985-07-12  |0.5937          |0.62               |0     |1        |0        |0     |0    |0          |0    |1     |1      |0      |0      |0     |0            |0    |0      |1      |1             |0      |0       |0  |0      |\n",
            "|2900822|Newlyweds Sarah and Cory Morgan have decided to take a relaxing holiday with Cory’s 7 year old son Liam to try and smooth over some of the teething problems Liam is having with his new Mom. Despite the idyllic location of Cory’s isolated and luxurious country house, the family soon realize they have made a mistake in going there. Someone has been using the house in their absence. Their unwanted house guests will soon reveal themselves and the family will find itself caught up in a fight for their lives. What was planned as a relaxing getaway quickly turns into their worst nightmare as the family find themselves on a holiday from hell.                                                                                                                                         |0    |Torment                                 |2013-10-11  |0.4419          |0.5                |0     |0        |0        |0     |0    |0          |0    |0     |0      |0      |0      |1     |0            |0    |0      |0      |0             |0      |1       |0  |0      |\n",
            "|0098153|Eddie Luca is the youngest son in a family of Italian immigrants who has moved to London. Beginning from nowhere, they open a cafe in an Italian neighbourhood. One day their father loses the cafe, the home and his wedding ring by gambling.                                                                                                                                                                                                                                                                                                                                                                                                                                                                                                                                                            |0    |Queen of Hearts                         |1989-10-01  |0.1756          |0.59               |0     |0        |0        |1     |0    |0          |0    |0     |0      |1      |0      |0     |0            |0    |0      |1      |0             |0      |0       |0  |0      |\n",
            "|0827498|A handmade stop-motion fairy tale for adults that tells the tale of the struggle between the aristocratic White Mice and the rustic Creatures Who Dwell Under the Oak over the doll of their heart's desire.                                                                                                                                                                                                                                                                                                                                                                                                                                                                                                                                                                                               |0    |Blood Tea and Red String                |2006-10-04  |0.0883          |0.77               |0     |0        |1        |0     |0    |0          |0    |0     |1      |0      |0      |0     |0            |0    |0      |0      |0             |0      |0       |0  |0      |\n",
            "|0120630|Having been hopelessly repressed and facing eventual certain death at the British chicken farm where they are held, Rocky the american rooster and Ginger the chicken decide to rebel against the evil Mr. and Mrs. Tweedy, the farm's owners. Rocky and Ginger lead their fellow chickens in a great escape from the murderous farmers and their farm of doom.                                                                                                                                                                                                                                                                                                                                                                                                                                            |0    |Chicken Run                             |2000-06-21  |0.8507          |0.65               |0     |0        |1        |1     |0    |0          |0    |1     |0      |0      |0      |0     |0            |0    |0      |0      |0             |0      |0       |0  |0      |\n",
            "|0199727|Jonny dreams of leaving his dead-end job as a courier. Through his childhood best friend, nephew of the notorious crime lord Ray Kreed, he wins his way into the toughest gang in North London. Hungry for action, Jonny sparks a feud between Ray's gang and a rival firm in South London headed by drug kingpin Sean and his lieutenant Matthew.                                                                                                                                                                                                                                                                                                                                                                                                                                                         |0    |Love, Honour and Obey                   |2000-04-07  |0.5909          |0.66               |1     |0        |0        |1     |1    |0          |0    |0     |0      |0      |0      |0     |0            |0    |0      |0      |0             |0      |1       |0  |0      |\n",
            "|0060148|One of six travelers who catch the bus from Casablanca airport to Marrakesh is carrying $2 million to pay a local operator to fix United Nations votes. But which one?                                                                                                                                                                                                                                                                                                                                                                                                                                                                                                                                                                                                                                     |0    |Our Man In Marrakesh                    |1966-07-22  |0.1955          |0.63               |0     |1        |0        |1     |1    |0          |0    |0     |0      |0      |0      |0     |0            |0    |1      |0      |0             |0      |0       |0  |0      |\n",
            "|0840361|Doug MacRay is a longtime thief, who, smarter than the rest of his crew, is looking for his chance to exit the game. When a bank job leads to the group kidnapping an attractive branch manager, he takes on the role of monitoring her – but their burgeoning relationship threatens to unveil the identities of Doug and his crew to the FBI Agent who is on their case.                                                                                                                                                                                                                                                                                                                                                                                                                                 |0    |The Town                                |2010-09-15  |0.8816          |0.7                |0     |0        |0        |0     |1    |0          |1    |0     |0      |0      |0      |0     |0            |0    |0      |0      |0             |0      |1       |0  |0      |\n",
            "|1024942|Jonas is a Copenhagen homicide scene photographer, happily married, with two kids. One day, his car stalls, another car slams into him, runs head on into a third car and flips into the ditch. The other driver, Julia, is critically injured. He visits her in the hospital and is greeted by her family, who assumes he must be the Sebastian she told them about, the new fiance she met in Vietnam.                                                                                                                                                                                                                                                                                                                                                                                                   |0    |Just Another Love Story                 |2007-08-22  |0.7129          |0.64               |0     |0        |0        |0     |1    |0          |1    |0     |0      |0      |0      |0     |0            |0    |0      |0      |0             |0      |1       |0  |0      |\n",
            "|0839976|Salvador Santos (Javier Gutiérrez), obeso, casi calvo y con 33 años, no parece la persona adecuada para vestirse de héroe. Pero no tiene otra opción, especialmente desde que un extraño viajero interdimensional le advierte que su mejor amigo, el multimillonario y guapo Arturo Antares (Leonardo Sbaraglia), es en realidad Nova, un tirano de otra dimensión que se ha ocultado durante años en el cuerpo de Arturo. Nova podría hacer que nuestros dos universos imploten, y Salvador tendrá que detenerlo... aunque no lo quiera.Después de resistirse mucho, Salvador aceptará ser entrenado y descubrirá que años dibujando y leyendo historietas no han sido en vano. Especialmente si siendo un héroe puede rescatar a Laura Luna (Elsa Pataky), el amor de toda su vida, de las manos de Nova.|0    |Santos                                  |2008-10-10  |0.0475          |0.5                |1     |0        |0        |1     |0    |0          |0    |0     |1      |1      |0      |0     |0            |0    |0      |1      |1             |0      |0       |0  |0      |\n",
            "|0138510|Anton is a cheerful but exceedingly non-ambitious 17-year-old stoner who lives to stay buzzed, watch TV, and moon over Molly, the beautiful girl who lives next door. However, it turns out that the old cliché about idle hands being the devil's playground has a kernel of truth after all.                                                                                                                                                                                                                                                                                                                                                                                                                                                                                                             |0    |Idle Hands                              |1999-04-30  |0.6869          |0.61               |0     |0        |0        |1     |0    |0          |0    |0     |0      |0      |0      |1     |0            |0    |0      |0      |0             |0      |1       |0  |0      |\n",
            "|1286821|This documentary follows NBA superstar LeBron James and four of his talented teammates through the trials and tribulations of high school basketball in Ohio and James' journey to fame.                                                                                                                                                                                                                                                                                                                                                                                                                                                                                                                                                                                                                   |0    |More Than a Game                        |2008-09-06  |0.2627          |0.72               |0     |0        |0        |0     |0    |1          |0    |0     |0      |0      |0      |0     |0            |0    |0      |0      |0             |0      |0       |0  |0      |\n",
            "|0445336|In the Swedish city of Lethe, people from different walks of life take part in a series of short, deadpan vignettes that rush past. Some are just seconds long, none longer than a couple of minutes. A young woman (Jessica Lundberg) remembers a fantasy honeymoon with a rock guitarist. A man awakes from a dream about bomber planes. A businessman boasts about success while being robbed by a pickpocket and so on. The absurdist collection is accompanied by Dixieland jazz and similar music.                                                                                                                                                                                                                                                                                                   |0    |You, the Living                         |2007-09-21  |0.4826          |0.71               |0     |0        |0        |1     |0    |0          |1    |0     |0      |0      |0      |0     |0            |1    |0      |0      |0             |0      |0       |0  |0      |\n",
            "|1305806|A retired legal counselor writes a novel hoping to find closure for one of his past unresolved homicide cases and for his unreciprocated love with his superior - both of which still haunt him decades later.                                                                                                                                                                                                                                                                                                                                                                                                                                                                                                                                                                                             |0    |The Secret in Their Eyes                |2009-08-13  |0.8352          |0.78               |0     |0        |0        |0     |1    |0          |1    |0     |0      |0      |0      |0     |0            |0    |1      |1      |0             |0      |0       |0  |0      |\n",
            "|0120112|Maureen is pregnant and her husband Eddie is missing. Nervous, Maureen shares a couple of drinks with neighbor Kiefer, who tries to rape her and then beats her. When Eddie returns and finds his wife bruised, he goes ballistic, shoots a paramedic and is put in a psychiatric institution. Ten years later, Eddie is released and finds that Maureen has divorced him and is remarried with three children, one of whom is his little girl Jeanie. Eddie goes to reclaim his wife                                                                                                                                                                                                                                                                                                                      |0    |She's So Lovely                         |1997-08-29  |0.3995          |0.53               |0     |0        |0        |0     |0    |0          |1    |0     |0      |0      |0      |0     |0            |0    |0      |1      |0             |0      |1       |0  |0      |\n",
            "|0278723|After joining the Skulls, Ryan Sommers (Robin Dunne) is warned not to betray any secrets about the organization or its high-powered members. However, when Ryan witnesses a murder within the Skulls' private chambers, he finds that the closer he gets to revealing the truth - the more dangerous life becomes.                                                                                                                                                                                                                                                                                                                                                                                                                                                                                         |0    |The Skulls II                           |2002-04-09  |0.5485          |0.53               |1     |0        |0        |1     |0    |0          |0    |0     |0      |0      |0      |0     |0            |0    |0      |1      |0             |0      |1       |0  |0      |\n",
            "|2238470|A supernatural thriller, laced by flashbacks, and set in Canada’s North-West, “The Stranger” turns on the mysterious titular figure of Martin, who comes to a small quiet town seeking to kill his wife Ana who suffers from a very dangerous decease that makes her addicted to human blood - just like himself-. However, when he arrives to the town, he discovers that Ana has been dead for a couple of years and decides to commit suicide to definitely eradicate this dangerous decease, but, before he can do it, Martin's brutally attacked by three local thugs led by Caleb, the son of a corrupt police lieutenant, and the incident suddenly starts a snowball that will plunge the community into a bloodbath.                                                                              |0    |The Stranger                            |2015-06-12  |0.5527          |0.46               |0     |0        |0        |0     |0    |0          |1    |0     |0      |0      |0      |1     |0            |0    |1      |0      |0             |0      |1       |0  |0      |\n",
            "|2567712|19-year-old Eric, arrogant and ultra-violent, is prematurely transferred to the same adult prison facility as his estranged father. As his explosive temper quickly finds him enemies in both prison authorities and fellow inmates — and his already volatile relationship with his father is pushed past breaking point — Eric is approached by a volunteer psychotherapist, who runs an anger management group for prisoners. Torn between gang politics, prison corruption, and a glimmer of something better, Eric finds himself in a fight for his own life, unsure if his own father is there to protect him or join in punishing him.                                                                                                                                                              |0    |Starred Up                              |2013-09-09  |0.6951          |0.71               |0     |0        |0        |0     |0    |0          |1    |0     |0      |0      |0      |0     |0            |0    |0      |0      |0             |0      |0       |0  |0      |\n",
            "|1824254|Julian Assange. Bradley Manning. Collateral murder. Cablegate. WikiLeaks. These people and terms have exploded into public consciousness by fundamentally changing the way democratic societies deal with privacy, secrecy, and the right to information, perhaps for generations to come. We Steal Secrets: The Story of WikiLeaks is an extensive examination of all things related to WikiLeaks and the larger global debate over access to information.                                                                                                                                                                                                                                                                                                                                                |0    |We Steal Secrets: The Story of WikiLeaks|2013-05-24  |0.7494          |0.62               |0     |0        |0        |0     |0    |1          |0    |0     |0      |0      |0      |0     |0            |0    |0      |0      |0             |0      |0       |0  |0      |\n",
            "+-------+-----------------------------------------------------------------------------------------------------------------------------------------------------------------------------------------------------------------------------------------------------------------------------------------------------------------------------------------------------------------------------------------------------------------------------------------------------------------------------------------------------------------------------------------------------------------------------------------------------------------------------------------------------------------------------------------------------------------------------------------------------------------------------------------------------------+-----+----------------------------------------+------------+----------------+-------------------+------+---------+---------+------+-----+-----------+-----+------+-------+-------+-------+------+-------------+-----+-------+-------+--------------+-------+--------+---+-------+\n",
            "only showing top 20 rows\n",
            "\n"
          ]
        }
      ]
    },
    {
      "cell_type": "code",
      "source": [
        "quantidade_nulos = [df_preprocess_movies.filter(F.col(coluna).isNull()).count() for coluna in df_preprocess_movies.columns]\n",
        "nomes_colunas = df_preprocess_movies.columns\n",
        "\n",
        "plt.figure(figsize=(8, 6))\n",
        "plt.barh(nomes_colunas, quantidade_nulos, color='lightblue')\n",
        "plt.xlabel('Quantidade de Nulos')\n",
        "plt.ylabel('Coluna')\n",
        "plt.title('Quantidade de Nulos em Cada Coluna')\n",
        "plt.grid(axis='x')\n",
        "\n",
        "for i in range(len(nomes_colunas)):\n",
        "    plt.text(quantidade_nulos[i], i, str(quantidade_nulos[i]), va='center')\n",
        "plt.yticks(np.arange(len(nomes_colunas)), nomes_colunas)\n",
        "plt.show()"
      ],
      "metadata": {
        "colab": {
          "base_uri": "https://localhost:8080/",
          "height": 564
        },
        "id": "sh4yVzZbZY_S",
        "outputId": "d45fa7d2-f112-4ac6-9703-e4d0aa07f39d"
      },
      "execution_count": null,
      "outputs": [
        {
          "output_type": "display_data",
          "data": {
            "text/plain": [
              "<Figure size 800x600 with 1 Axes>"
            ],
            "image/png": "[encoded data removed]"
          },
          "metadata": {}
        }
      ]
    },
    {
      "cell_type": "code",
      "source": [
        "schema = T.ArrayType(T.StructType([\n",
        "    T.StructField(\"cast_id\", T.IntegerType(), True),\n",
        "    T.StructField(\"character\", T.StringType(), True),\n",
        "    T.StructField(\"credit_id\", T.StringType(), True),\n",
        "    T.StructField(\"gender\", T.IntegerType(), True),\n",
        "    T.StructField(\"id\", T.IntegerType(), True),\n",
        "    T.StructField(\"name\", T.StringType(), True),\n",
        "    T.StructField(\"order\", T.IntegerType(), True),\n",
        "    T.StructField(\"profile_path\", T.StringType(), True)\n",
        "]))\n",
        "\n",
        "df_exploded = (\n",
        "    df_credits\n",
        "    .withColumn(\"cast\", F.from_json(\"cast\", schema))\n",
        "    .withColumn(\"cast\", F.explode(\"cast\"))\n",
        ")\n",
        "\n",
        "df_cast = (\n",
        "    df_exploded\n",
        "    .filter(F.col(\"id\").rlike(\"^\\d+$\"))\n",
        "    .select(\n",
        "        F.col(\"id\").alias(\"movie_id\"),\n",
        "        F.col(\"cast.cast_id\"),\n",
        "        F.col(\"cast.character\"),\n",
        "        F.col(\"cast.credit_id\"),\n",
        "        F.col(\"cast.gender\"),\n",
        "        F.col(\"cast.id\").alias(\"actor_id\"),\n",
        "        F.col(\"cast.name\").alias(\"actor_name\"),\n",
        "    )\n",
        ")\n"
      ],
      "metadata": {
        "id": "kekW1i4Dbhh8"
      },
      "execution_count": null,
      "outputs": []
    },
    {
      "cell_type": "code",
      "source": [
        "df_cast.show(truncate=False)"
      ],
      "metadata": {
        "colab": {
          "base_uri": "https://localhost:8080/"
        },
        "id": "QJGvWf9UbkBU",
        "outputId": "0c5ff274-155f-4e29-c233-43b08c000cf6"
      },
      "execution_count": null,
      "outputs": [
        {
          "output_type": "stream",
          "name": "stdout",
          "text": [
            "+--------+-------+----------------------------+------------------------+------+--------+-------------------------+\n",
            "|movie_id|cast_id|character                   |credit_id               |gender|actor_id|actor_name               |\n",
            "+--------+-------+----------------------------+------------------------+------+--------+-------------------------+\n",
            "|15602   |2      |Max Goldman                 |52fe466a9251416c75077a8d|2     |6837    |Walter Matthau           |\n",
            "|15602   |3      |John Gustafson              |52fe466a9251416c75077a91|2     |3151    |Jack Lemmon              |\n",
            "|15602   |4      |Ariel Gustafson             |52fe466a9251416c75077a95|1     |13567   |Ann-Margret              |\n",
            "|15602   |5      |Maria Sophia Coletta Ragetti|52fe466a9251416c75077a99|1     |16757   |Sophia Loren             |\n",
            "|15602   |6      |Melanie Gustafson           |52fe466a9251416c75077a9d|1     |589     |Daryl Hannah             |\n",
            "|15602   |9      |Grandpa Gustafson           |53e5fcc2c3a3684430000d65|2     |16523   |Burgess Meredith         |\n",
            "|15602   |10     |Jacob Goldman               |53e5fcd4c3a3684433000e1a|2     |7166    |Kevin Pollak             |\n",
            "|11862   |1      |George Banks                |52fe44959251416c75039eb9|2     |67773   |Steve Martin             |\n",
            "|11862   |2      |Nina Banks                  |52fe44959251416c75039ebd|1     |3092    |Diane Keaton             |\n",
            "|11862   |3      |Franck Eggelhoffer          |52fe44959251416c75039ec1|2     |519     |Martin Short             |\n",
            "|11862   |4      |Annie Banks-MacKenzie       |52fe44959251416c75039ec5|1     |70696   |Kimberly Williams-Paisley|\n",
            "|11862   |13     |Bryan MacKenzie             |52fe44959251416c75039ef3|2     |59222   |George Newbern           |\n",
            "|11862   |14     |Matty Banks                 |52fe44959251416c75039ef7|0     |18793   |Kieran Culkin            |\n",
            "|11862   |15     |Howard Weinstein            |52fe44959251416c75039efb|2     |14592   |BD Wong                  |\n",
            "|11862   |16     |John MacKenzie              |52fe44959251416c75039eff|2     |20906   |Peter Michael Goetz      |\n",
            "|11862   |17     |Joanna MacKenzie            |52fe44959251416c75039f03|1     |54348   |Kate McGregor-Stewart    |\n",
            "|11862   |18     |Dr. Megan Eisenberg         |52fe44959251416c75039f07|1     |209     |Jane Adams               |\n",
            "|11862   |19     |Mr. Habib                   |52fe44959251416c75039f0b|2     |26510   |Eugene Levy              |\n",
            "|11862   |20     |Wife Mrs. Habib             |57ffa654c3a3681552000277|1     |24358   |Lori Alan                |\n",
            "|45325   |2      |Tom Sawyer                  |52fe46bdc3a36847f810f771|2     |53283   |Jonathan Taylor Thomas   |\n",
            "+--------+-------+----------------------------+------------------------+------+--------+-------------------------+\n",
            "only showing top 20 rows\n",
            "\n"
          ]
        }
      ]
    },
    {
      "cell_type": "markdown",
      "source": [],
      "metadata": {
        "id": "jg2HyCGhZbeC"
      }
    },
    {
      "cell_type": "code",
      "source": [
        "quantidade_nulos = [df_cast.filter(F.col(coluna).isNull()).count() for coluna in df_cast.columns]\n",
        "nomes_colunas = df_cast.columns\n",
        "\n",
        "plt.figure(figsize=(8, 6))\n",
        "plt.barh(nomes_colunas, quantidade_nulos, color='lightblue')\n",
        "plt.xlabel('Quantidade de Nulos')\n",
        "plt.ylabel('Coluna')\n",
        "plt.title('Quantidade de Nulos em Cada Coluna')\n",
        "plt.grid(axis='x')\n",
        "\n",
        "for i in range(len(nomes_colunas)):\n",
        "    plt.text(quantidade_nulos[i], i, str(quantidade_nulos[i]), va='center')\n",
        "plt.yticks(np.arange(len(nomes_colunas)), nomes_colunas)\n",
        "plt.show()\n"
      ],
      "metadata": {
        "colab": {
          "base_uri": "https://localhost:8080/",
          "height": 564
        },
        "id": "7DB8EtH-jNm1",
        "outputId": "836f1ddd-c73d-4d67-f3d1-ef6cdc41eeec"
      },
      "execution_count": null,
      "outputs": [
        {
          "output_type": "display_data",
          "data": {
            "text/plain": [
              "<Figure size 800x600 with 1 Axes>"
            ],
            "image/png": "[encoded data removed]"
          },
          "metadata": {}
        }
      ]
    },
    {
      "cell_type": "code",
      "source": [
        "\n",
        "\n",
        "schema = T.ArrayType(T.StructType([\n",
        "    T.StructField(\"id\", T.IntegerType(), True),\n",
        "    T.StructField(\"name\", T.StringType(), True)\n",
        "]))\n",
        "\n",
        "df_exploded = (\n",
        "    df_keywords\n",
        "    .filter(F.col(\"id\").rlike(\"^\\d+$\"))\n",
        "    .withColumn(\"keywords\", F.from_json(\"keywords\", schema))\n",
        "    .withColumn(\"keywords\", F.explode(\"keywords\"))\n",
        "    .withColumn(\"keyword_name\", F.trim(F.col(\"keywords.name\")))\n",
        ")\n",
        "\n",
        "window_spec = Window.partitionBy(\"partition\").orderBy(F.desc(\"count\"))\n",
        "df_keyword_counts = (\n",
        "    df_exploded\n",
        "    .groupBy(\"keyword_name\")\n",
        "    .count()\n",
        "    .withColumn(\"partition\", F.lit(1))\n",
        "    .withColumn(\"keyword_id\", F.row_number().over(window_spec))\n",
        ")\n",
        "\n",
        "df_keyword_edit = (\n",
        "    df_exploded\n",
        "    .join(df_keyword_counts, on=\"keyword_name\", how=\"inner\")\n",
        "    .select(\n",
        "        F.col(\"id\").alias(\"movie_id\"),\n",
        "        F.col(\"keyword_id\"),\n",
        "        F.col(\"keyword_name\")\n",
        "    )\n",
        ")\n",
        "\n"
      ],
      "metadata": {
        "id": "xr0wMq4ijlVv"
      },
      "execution_count": null,
      "outputs": []
    },
    {
      "cell_type": "code",
      "source": [
        "quantidade_nulos = [df_keyword_edit.filter(F.col(coluna).isNull()).count() for coluna in df_keyword_edit.columns]\n",
        "nomes_colunas = df_keyword_edit.columns\n",
        "\n",
        "plt.figure(figsize=(8, 6))\n",
        "plt.barh(nomes_colunas, quantidade_nulos, color='lightblue')\n",
        "plt.xlabel('Quantidade de Nulos')\n",
        "plt.ylabel('Coluna')\n",
        "plt.title('Quantidade de Nulos em Cada Coluna')\n",
        "plt.grid(axis='x')\n",
        "\n",
        "for i in range(len(nomes_colunas)):\n",
        "    plt.text(quantidade_nulos[i], i, str(quantidade_nulos[i]), va='center')\n",
        "plt.yticks(np.arange(len(nomes_colunas)), nomes_colunas)\n",
        "plt.show()"
      ],
      "metadata": {
        "colab": {
          "base_uri": "https://localhost:8080/",
          "height": 564
        },
        "id": "Uc_Q2dMHjuVa",
        "outputId": "08a16612-3d2c-42ca-a555-c63d08fecedd"
      },
      "execution_count": null,
      "outputs": [
        {
          "output_type": "display_data",
          "data": {
            "text/plain": [
              "<Figure size 800x600 with 1 Axes>"
            ],
            "image/png": "[encoded data removed]"
          },
          "metadata": {}
        }
      ]
    },
    {
      "cell_type": "code",
      "source": [
        "df_ratings_2 = (\n",
        "    df_ratings\n",
        "    .withColumn('rating', F.round((F.col(\"rating\")/5),2))\n",
        ")"
      ],
      "metadata": {
        "id": "x-DKv0Glj5NE"
      },
      "execution_count": null,
      "outputs": []
    },
    {
      "cell_type": "code",
      "source": [
        "import pandas as pd\n",
        "import glob\n",
        "import os\n",
        "import numpy as np\n",
        "from sklearn.model_selection import train_test_split\n",
        "from imblearn.under_sampling import RandomUnderSampler\n",
        "from sklearn.metrics import accuracy_score\n",
        "from sklearn.ensemble import RandomForestClassifier\n",
        "from sklearn.metrics import classification_report\n",
        "from sklearn.decomposition import PCA\n",
        "from sklearn.preprocessing import StandardScaler\n",
        "import matplotlib.pyplot as plt"
      ],
      "metadata": {
        "id": "d0eJISsdkLQP"
      },
      "execution_count": null,
      "outputs": []
    },
    {
      "cell_type": "code",
      "source": [
        "generos = ['Action', 'Adventure', 'Animation', 'Comedy', 'Crime', 'Documentary', 'Drama', 'Family', 'Fantasy', 'Foreign', 'History', 'Horror', 'Music', 'Mystery', 'Romance', 'ScienceFiction', 'TVMovie', 'Thriller', 'War', 'Western']\n",
        "\n",
        "def read_parquet(pasta):\n",
        "    arquivos_parquet = glob.glob(os.path.join(pasta, '*.parquet'))\n",
        "    lista_df = [pd.read_parquet(arquivo) for arquivo in arquivos_parquet]\n",
        "    df = pd.concat(lista_df, ignore_index=True)\n",
        "    return df"
      ],
      "metadata": {
        "id": "3sGp784TkTXD"
      },
      "execution_count": null,
      "outputs": []
    },
    {
      "cell_type": "code",
      "source": [
        "df_parquet = read_parquet('./preprocess/movies')[generos]\n",
        "label = 'Action'\n",
        "features = generos.copy()\n",
        "features.remove(label)\n"
      ],
      "metadata": {
        "id": "UUnjpczLlxtq"
      },
      "execution_count": null,
      "outputs": []
    },
    {
      "cell_type": "code",
      "source": [
        "df_parquet.head()"
      ],
      "metadata": {
        "id": "jjczoQKQJOzG",
        "outputId": "3fd75005-7fd0-4976-fbe2-e705ca134354",
        "colab": {
          "base_uri": "https://localhost:8080/",
          "height": 226
        }
      },
      "execution_count": null,
      "outputs": [
        {
          "output_type": "execute_result",
          "data": {
            "text/plain": [
              "   Action  Adventure  Animation  Comedy  Crime  Documentary  Drama  Family  \\\n",
              "0       0          0          0       0      0            1      0       0   \n",
              "1       0          0          0       0      0            0      1       0   \n",
              "2       0          0          0       0      0            0      1       0   \n",
              "3       0          0          0       0      0            1      0       0   \n",
              "4       0          0          0       0      0            0      1       0   \n",
              "\n",
              "   Fantasy  Foreign  History  Horror  Music  Mystery  Romance  ScienceFiction  \\\n",
              "0        0        0        0       0      1        0        0               0   \n",
              "1        0        0        1       0      0        0        0               0   \n",
              "2        0        0        0       0      0        0        0               0   \n",
              "3        0        0        0       0      1        0        0               0   \n",
              "4        0        0        0       0      0        0        0               0   \n",
              "\n",
              "   TVMovie  Thriller  War  Western  \n",
              "0        0         0    0        0  \n",
              "1        1         0    1        0  \n",
              "2        0         0    1        0  \n",
              "3        0         0    0        0  \n",
              "4        0         0    0        0  "
            ],
            "text/html": [
              "\n",
              "  <div id=\"df-ff0502ca-d3f9-4c5b-a370-81e90213799a\" class=\"colab-df-container\">\n",
              "    <div>\n",
              "<style scoped>\n",
              "    .dataframe tbody tr th:only-of-type {\n",
              "        vertical-align: middle;\n",
              "    }\n",
              "\n",
              "    .dataframe tbody tr th {\n",
              "        vertical-align: top;\n",
              "    }\n",
              "\n",
              "    .dataframe thead th {\n",
              "        text-align: right;\n",
              "    }\n",
              "</style>\n",
              "<table border=\"1\" class=\"dataframe\">\n",
              "  <thead>\n",
              "    <tr style=\"text-align: right;\">\n",
              "      <th></th>\n",
              "      <th>Action</th>\n",
              "      <th>Adventure</th>\n",
              "      <th>Animation</th>\n",
              "      <th>Comedy</th>\n",
              "      <th>Crime</th>\n",
              "      <th>Documentary</th>\n",
              "      <th>Drama</th>\n",
              "      <th>Family</th>\n",
              "      <th>Fantasy</th>\n",
              "      <th>Foreign</th>\n",
              "      <th>History</th>\n",
              "      <th>Horror</th>\n",
              "      <th>Music</th>\n",
              "      <th>Mystery</th>\n",
              "      <th>Romance</th>\n",
              "      <th>ScienceFiction</th>\n",
              "      <th>TVMovie</th>\n",
              "      <th>Thriller</th>\n",
              "      <th>War</th>\n",
              "      <th>Western</th>\n",
              "    </tr>\n",
              "  </thead>\n",
              "  <tbody>\n",
              "    <tr>\n",
              "      <th>0</th>\n",
              "      <td>0</td>\n",
              "      <td>0</td>\n",
              "      <td>0</td>\n",
              "      <td>0</td>\n",
              "      <td>0</td>\n",
              "      <td>1</td>\n",
              "      <td>0</td>\n",
              "      <td>0</td>\n",
              "      <td>0</td>\n",
              "      <td>0</td>\n",
              "      <td>0</td>\n",
              "      <td>0</td>\n",
              "      <td>1</td>\n",
              "      <td>0</td>\n",
              "      <td>0</td>\n",
              "      <td>0</td>\n",
              "      <td>0</td>\n",
              "      <td>0</td>\n",
              "      <td>0</td>\n",
              "      <td>0</td>\n",
              "    </tr>\n",
              "    <tr>\n",
              "      <th>1</th>\n",
              "      <td>0</td>\n",
              "      <td>0</td>\n",
              "      <td>0</td>\n",
              "      <td>0</td>\n",
              "      <td>0</td>\n",
              "      <td>0</td>\n",
              "      <td>1</td>\n",
              "      <td>0</td>\n",
              "      <td>0</td>\n",
              "      <td>0</td>\n",
              "      <td>1</td>\n",
              "      <td>0</td>\n",
              "      <td>0</td>\n",
              "      <td>0</td>\n",
              "      <td>0</td>\n",
              "      <td>0</td>\n",
              "      <td>1</td>\n",
              "      <td>0</td>\n",
              "      <td>1</td>\n",
              "      <td>0</td>\n",
              "    </tr>\n",
              "    <tr>\n",
              "      <th>2</th>\n",
              "      <td>0</td>\n",
              "      <td>0</td>\n",
              "      <td>0</td>\n",
              "      <td>0</td>\n",
              "      <td>0</td>\n",
              "      <td>0</td>\n",
              "      <td>1</td>\n",
              "      <td>0</td>\n",
              "      <td>0</td>\n",
              "      <td>0</td>\n",
              "      <td>0</td>\n",
              "      <td>0</td>\n",
              "      <td>0</td>\n",
              "      <td>0</td>\n",
              "      <td>0</td>\n",
              "      <td>0</td>\n",
              "      <td>0</td>\n",
              "      <td>0</td>\n",
              "      <td>1</td>\n",
              "      <td>0</td>\n",
              "    </tr>\n",
              "    <tr>\n",
              "      <th>3</th>\n",
              "      <td>0</td>\n",
              "      <td>0</td>\n",
              "      <td>0</td>\n",
              "      <td>0</td>\n",
              "      <td>0</td>\n",
              "      <td>1</td>\n",
              "      <td>0</td>\n",
              "      <td>0</td>\n",
              "      <td>0</td>\n",
              "      <td>0</td>\n",
              "      <td>0</td>\n",
              "      <td>0</td>\n",
              "      <td>1</td>\n",
              "      <td>0</td>\n",
              "      <td>0</td>\n",
              "      <td>0</td>\n",
              "      <td>0</td>\n",
              "      <td>0</td>\n",
              "      <td>0</td>\n",
              "      <td>0</td>\n",
              "    </tr>\n",
              "    <tr>\n",
              "      <th>4</th>\n",
              "      <td>0</td>\n",
              "      <td>0</td>\n",
              "      <td>0</td>\n",
              "      <td>0</td>\n",
              "      <td>0</td>\n",
              "      <td>0</td>\n",
              "      <td>1</td>\n",
              "      <td>0</td>\n",
              "      <td>0</td>\n",
              "      <td>0</td>\n",
              "      <td>0</td>\n",
              "      <td>0</td>\n",
              "      <td>0</td>\n",
              "      <td>0</td>\n",
              "      <td>0</td>\n",
              "      <td>0</td>\n",
              "      <td>0</td>\n",
              "      <td>0</td>\n",
              "      <td>0</td>\n",
              "      <td>0</td>\n",
              "    </tr>\n",
              "  </tbody>\n",
              "</table>\n",
              "</div>\n",
              "    <div class=\"colab-df-buttons\">\n",
              "\n",
              "  <div class=\"colab-df-container\">\n",
              "    <button class=\"colab-df-convert\" onclick=\"convertToInteractive('df-ff0502ca-d3f9-4c5b-a370-81e90213799a')\"\n",
              "            title=\"Convert this dataframe to an interactive table.\"\n",
              "            style=\"display:none;\">\n",
              "\n",
              "  <svg xmlns=\"http://www.w3.org/2000/svg\" height=\"24px\" viewBox=\"0 -960 960 960\">\n",
              "    <path d=\"M120-120v-720h720v720H120Zm60-500h600v-160H180v160Zm220 220h160v-160H400v160Zm0 220h160v-160H400v160ZM180-400h160v-160H180v160Zm440 0h160v-160H620v160ZM180-180h160v-160H180v160Zm440 0h160v-160H620v160Z\"/>\n",
              "  </svg>\n",
              "    </button>\n",
              "\n",
              "  <style>\n",
              "    .colab-df-container {\n",
              "      display:flex;\n",
              "      gap: 12px;\n",
              "    }\n",
              "\n",
              "    .colab-df-convert {\n",
              "      background-color: #E8F0FE;\n",
              "      border: none;\n",
              "      border-radius: 50%;\n",
              "      cursor: pointer;\n",
              "      display: none;\n",
              "      fill: #1967D2;\n",
              "      height: 32px;\n",
              "      padding: 0 0 0 0;\n",
              "      width: 32px;\n",
              "    }\n",
              "\n",
              "    .colab-df-convert:hover {\n",
              "      background-color: #E2EBFA;\n",
              "      box-shadow: 0px 1px 2px rgba(60, 64, 67, 0.3), 0px 1px 3px 1px rgba(60, 64, 67, 0.15);\n",
              "      fill: #174EA6;\n",
              "    }\n",
              "\n",
              "    .colab-df-buttons div {\n",
              "      margin-bottom: 4px;\n",
              "    }\n",
              "\n",
              "    [theme=dark] .colab-df-convert {\n",
              "      background-color: #3B4455;\n",
              "      fill: #D2E3FC;\n",
              "    }\n",
              "\n",
              "    [theme=dark] .colab-df-convert:hover {\n",
              "      background-color: #434B5C;\n",
              "      box-shadow: 0px 1px 3px 1px rgba(0, 0, 0, 0.15);\n",
              "      filter: drop-shadow(0px 1px 2px rgba(0, 0, 0, 0.3));\n",
              "      fill: #FFFFFF;\n",
              "    }\n",
              "  </style>\n",
              "\n",
              "    <script>\n",
              "      const buttonEl =\n",
              "        document.querySelector('#df-ff0502ca-d3f9-4c5b-a370-81e90213799a button.colab-df-convert');\n",
              "      buttonEl.style.display =\n",
              "        google.colab.kernel.accessAllowed ? 'block' : 'none';\n",
              "\n",
              "      async function convertToInteractive(key) {\n",
              "        const element = document.querySelector('#df-ff0502ca-d3f9-4c5b-a370-81e90213799a');\n",
              "        const dataTable =\n",
              "          await google.colab.kernel.invokeFunction('convertToInteractive',\n",
              "                                                    [key], {});\n",
              "        if (!dataTable) return;\n",
              "\n",
              "        const docLinkHtml = 'Like what you see? Visit the ' +\n",
              "          '<a target=\"_blank\" href=https://colab.research.google.com/notebooks/data_table.ipynb>data table notebook</a>'\n",
              "          + ' to learn more about interactive tables.';\n",
              "        element.innerHTML = '';\n",
              "        dataTable['output_type'] = 'display_data';\n",
              "        await google.colab.output.renderOutput(dataTable, element);\n",
              "        const docLink = document.createElement('div');\n",
              "        docLink.innerHTML = docLinkHtml;\n",
              "        element.appendChild(docLink);\n",
              "      }\n",
              "    </script>\n",
              "  </div>\n",
              "\n",
              "\n",
              "<div id=\"df-8b644605-c601-4949-b319-5c2223604b71\">\n",
              "  <button class=\"colab-df-quickchart\" onclick=\"quickchart('df-8b644605-c601-4949-b319-5c2223604b71')\"\n",
              "            title=\"Suggest charts\"\n",
              "            style=\"display:none;\">\n",
              "\n",
              "<svg xmlns=\"http://www.w3.org/2000/svg\" height=\"24px\"viewBox=\"0 0 24 24\"\n",
              "     width=\"24px\">\n",
              "    <g>\n",
              "        <path d=\"M19 3H5c-1.1 0-2 .9-2 2v14c0 1.1.9 2 2 2h14c1.1 0 2-.9 2-2V5c0-1.1-.9-2-2-2zM9 17H7v-7h2v7zm4 0h-2V7h2v10zm4 0h-2v-4h2v4z\"/>\n",
              "    </g>\n",
              "</svg>\n",
              "  </button>\n",
              "\n",
              "<style>\n",
              "  .colab-df-quickchart {\n",
              "      --bg-color: #E8F0FE;\n",
              "      --fill-color: #1967D2;\n",
              "      --hover-bg-color: #E2EBFA;\n",
              "      --hover-fill-color: #174EA6;\n",
              "      --disabled-fill-color: #AAA;\n",
              "      --disabled-bg-color: #DDD;\n",
              "  }\n",
              "\n",
              "  [theme=dark] .colab-df-quickchart {\n",
              "      --bg-color: #3B4455;\n",
              "      --fill-color: #D2E3FC;\n",
              "      --hover-bg-color: #434B5C;\n",
              "      --hover-fill-color: #FFFFFF;\n",
              "      --disabled-bg-color: #3B4455;\n",
              "      --disabled-fill-color: #666;\n",
              "  }\n",
              "\n",
              "  .colab-df-quickchart {\n",
              "    background-color: var(--bg-color);\n",
              "    border: none;\n",
              "    border-radius: 50%;\n",
              "    cursor: pointer;\n",
              "    display: none;\n",
              "    fill: var(--fill-color);\n",
              "    height: 32px;\n",
              "    padding: 0;\n",
              "    width: 32px;\n",
              "  }\n",
              "\n",
              "  .colab-df-quickchart:hover {\n",
              "    background-color: var(--hover-bg-color);\n",
              "    box-shadow: 0 1px 2px rgba(60, 64, 67, 0.3), 0 1px 3px 1px rgba(60, 64, 67, 0.15);\n",
              "    fill: var(--button-hover-fill-color);\n",
              "  }\n",
              "\n",
              "  .colab-df-quickchart-complete:disabled,\n",
              "  .colab-df-quickchart-complete:disabled:hover {\n",
              "    background-color: var(--disabled-bg-color);\n",
              "    fill: var(--disabled-fill-color);\n",
              "    box-shadow: none;\n",
              "  }\n",
              "\n",
              "  .colab-df-spinner {\n",
              "    border: 2px solid var(--fill-color);\n",
              "    border-color: transparent;\n",
              "    border-bottom-color: var(--fill-color);\n",
              "    animation:\n",
              "      spin 1s steps(1) infinite;\n",
              "  }\n",
              "\n",
              "  @keyframes spin {\n",
              "    0% {\n",
              "      border-color: transparent;\n",
              "      border-bottom-color: var(--fill-color);\n",
              "      border-left-color: var(--fill-color);\n",
              "    }\n",
              "    20% {\n",
              "      border-color: transparent;\n",
              "      border-left-color: var(--fill-color);\n",
              "      border-top-color: var(--fill-color);\n",
              "    }\n",
              "    30% {\n",
              "      border-color: transparent;\n",
              "      border-left-color: var(--fill-color);\n",
              "      border-top-color: var(--fill-color);\n",
              "      border-right-color: var(--fill-color);\n",
              "    }\n",
              "    40% {\n",
              "      border-color: transparent;\n",
              "      border-right-color: var(--fill-color);\n",
              "      border-top-color: var(--fill-color);\n",
              "    }\n",
              "    60% {\n",
              "      border-color: transparent;\n",
              "      border-right-color: var(--fill-color);\n",
              "    }\n",
              "    80% {\n",
              "      border-color: transparent;\n",
              "      border-right-color: var(--fill-color);\n",
              "      border-bottom-color: var(--fill-color);\n",
              "    }\n",
              "    90% {\n",
              "      border-color: transparent;\n",
              "      border-bottom-color: var(--fill-color);\n",
              "    }\n",
              "  }\n",
              "</style>\n",
              "\n",
              "  <script>\n",
              "    async function quickchart(key) {\n",
              "      const quickchartButtonEl =\n",
              "        document.querySelector('#' + key + ' button');\n",
              "      quickchartButtonEl.disabled = true;  // To prevent multiple clicks.\n",
              "      quickchartButtonEl.classList.add('colab-df-spinner');\n",
              "      try {\n",
              "        const charts = await google.colab.kernel.invokeFunction(\n",
              "            'suggestCharts', [key], {});\n",
              "      } catch (error) {\n",
              "        console.error('Error during call to suggestCharts:', error);\n",
              "      }\n",
              "      quickchartButtonEl.classList.remove('colab-df-spinner');\n",
              "      quickchartButtonEl.classList.add('colab-df-quickchart-complete');\n",
              "    }\n",
              "    (() => {\n",
              "      let quickchartButtonEl =\n",
              "        document.querySelector('#df-8b644605-c601-4949-b319-5c2223604b71 button');\n",
              "      quickchartButtonEl.style.display =\n",
              "        google.colab.kernel.accessAllowed ? 'block' : 'none';\n",
              "    })();\n",
              "  </script>\n",
              "</div>\n",
              "\n",
              "    </div>\n",
              "  </div>\n"
            ],
            "application/vnd.google.colaboratory.intrinsic+json": {
              "type": "dataframe",
              "variable_name": "df_parquet",
              "summary": "{\n  \"name\": \"df_parquet\",\n  \"rows\": 38538,\n  \"fields\": [\n    {\n      \"column\": \"Action\",\n      \"properties\": {\n        \"dtype\": \"int32\",\n        \"num_unique_values\": 2,\n        \"samples\": [\n          1,\n          0\n        ],\n        \"semantic_type\": \"\",\n        \"description\": \"\"\n      }\n    },\n    {\n      \"column\": \"Adventure\",\n      \"properties\": {\n        \"dtype\": \"int32\",\n        \"num_unique_values\": 2,\n        \"samples\": [\n          1,\n          0\n        ],\n        \"semantic_type\": \"\",\n        \"description\": \"\"\n      }\n    },\n    {\n      \"column\": \"Animation\",\n      \"properties\": {\n        \"dtype\": \"int32\",\n        \"num_unique_values\": 2,\n        \"samples\": [\n          1,\n          0\n        ],\n        \"semantic_type\": \"\",\n        \"description\": \"\"\n      }\n    },\n    {\n      \"column\": \"Comedy\",\n      \"properties\": {\n        \"dtype\": \"int32\",\n        \"num_unique_values\": 2,\n        \"samples\": [\n          1,\n          0\n        ],\n        \"semantic_type\": \"\",\n        \"description\": \"\"\n      }\n    },\n    {\n      \"column\": \"Crime\",\n      \"properties\": {\n        \"dtype\": \"int32\",\n        \"num_unique_values\": 2,\n        \"samples\": [\n          1,\n          0\n        ],\n        \"semantic_type\": \"\",\n        \"description\": \"\"\n      }\n    },\n    {\n      \"column\": \"Documentary\",\n      \"properties\": {\n        \"dtype\": \"int32\",\n        \"num_unique_values\": 2,\n        \"samples\": [\n          0,\n          1\n        ],\n        \"semantic_type\": \"\",\n        \"description\": \"\"\n      }\n    },\n    {\n      \"column\": \"Drama\",\n      \"properties\": {\n        \"dtype\": \"int32\",\n        \"num_unique_values\": 2,\n        \"samples\": [\n          1,\n          0\n        ],\n        \"semantic_type\": \"\",\n        \"description\": \"\"\n      }\n    },\n    {\n      \"column\": \"Family\",\n      \"properties\": {\n        \"dtype\": \"int32\",\n        \"num_unique_values\": 2,\n        \"samples\": [\n          1,\n          0\n        ],\n        \"semantic_type\": \"\",\n        \"description\": \"\"\n      }\n    },\n    {\n      \"column\": \"Fantasy\",\n      \"properties\": {\n        \"dtype\": \"int32\",\n        \"num_unique_values\": 2,\n        \"samples\": [\n          1,\n          0\n        ],\n        \"semantic_type\": \"\",\n        \"description\": \"\"\n      }\n    },\n    {\n      \"column\": \"Foreign\",\n      \"properties\": {\n        \"dtype\": \"int32\",\n        \"num_unique_values\": 2,\n        \"samples\": [\n          1,\n          0\n        ],\n        \"semantic_type\": \"\",\n        \"description\": \"\"\n      }\n    },\n    {\n      \"column\": \"History\",\n      \"properties\": {\n        \"dtype\": \"int32\",\n        \"num_unique_values\": 2,\n        \"samples\": [\n          1,\n          0\n        ],\n        \"semantic_type\": \"\",\n        \"description\": \"\"\n      }\n    },\n    {\n      \"column\": \"Horror\",\n      \"properties\": {\n        \"dtype\": \"int32\",\n        \"num_unique_values\": 2,\n        \"samples\": [\n          1,\n          0\n        ],\n        \"semantic_type\": \"\",\n        \"description\": \"\"\n      }\n    },\n    {\n      \"column\": \"Music\",\n      \"properties\": {\n        \"dtype\": \"int32\",\n        \"num_unique_values\": 2,\n        \"samples\": [\n          0,\n          1\n        ],\n        \"semantic_type\": \"\",\n        \"description\": \"\"\n      }\n    },\n    {\n      \"column\": \"Mystery\",\n      \"properties\": {\n        \"dtype\": \"int32\",\n        \"num_unique_values\": 2,\n        \"samples\": [\n          1,\n          0\n        ],\n        \"semantic_type\": \"\",\n        \"description\": \"\"\n      }\n    },\n    {\n      \"column\": \"Romance\",\n      \"properties\": {\n        \"dtype\": \"int32\",\n        \"num_unique_values\": 2,\n        \"samples\": [\n          1,\n          0\n        ],\n        \"semantic_type\": \"\",\n        \"description\": \"\"\n      }\n    },\n    {\n      \"column\": \"ScienceFiction\",\n      \"properties\": {\n        \"dtype\": \"int32\",\n        \"num_unique_values\": 2,\n        \"samples\": [\n          1,\n          0\n        ],\n        \"semantic_type\": \"\",\n        \"description\": \"\"\n      }\n    },\n    {\n      \"column\": \"TVMovie\",\n      \"properties\": {\n        \"dtype\": \"int32\",\n        \"num_unique_values\": 2,\n        \"samples\": [\n          1,\n          0\n        ],\n        \"semantic_type\": \"\",\n        \"description\": \"\"\n      }\n    },\n    {\n      \"column\": \"Thriller\",\n      \"properties\": {\n        \"dtype\": \"int32\",\n        \"num_unique_values\": 2,\n        \"samples\": [\n          1,\n          0\n        ],\n        \"semantic_type\": \"\",\n        \"description\": \"\"\n      }\n    },\n    {\n      \"column\": \"War\",\n      \"properties\": {\n        \"dtype\": \"int32\",\n        \"num_unique_values\": 2,\n        \"samples\": [\n          1,\n          0\n        ],\n        \"semantic_type\": \"\",\n        \"description\": \"\"\n      }\n    },\n    {\n      \"column\": \"Western\",\n      \"properties\": {\n        \"dtype\": \"int32\",\n        \"num_unique_values\": 2,\n        \"samples\": [\n          1,\n          0\n        ],\n        \"semantic_type\": \"\",\n        \"description\": \"\"\n      }\n    }\n  ]\n}"
            }
          },
          "metadata": {},
          "execution_count": 79
        }
      ]
    },
    {
      "cell_type": "code",
      "source": [
        "from sklearn.feature_selection import SelectKBest, chi2\n",
        "\n",
        "# Aplicar o SelectKBest com o teste qui-quadrado\n",
        "X = df_parquet[generos]  # features: gêneros dos filmes\n",
        "y = df_parquet['Action']  # variável alvo: gênero do filme\n",
        "\n",
        "# Seleção das melhores características\n",
        "selector = SelectKBest(chi2, k=\"all\")\n",
        "selector.fit(X, y)\n",
        "\n",
        "generos_selecionados = selector.get_feature_names_out()\n",
        "print(\"Os 5 gêneros mais relevantes são:\", generos_selecionados)"
      ],
      "metadata": {
        "colab": {
          "base_uri": "https://localhost:8080/"
        },
        "id": "IclYfewq07-R",
        "outputId": "3b41129b-8e69-4e35-b6cc-fb1d92da7708"
      },
      "execution_count": null,
      "outputs": [
        {
          "output_type": "stream",
          "name": "stdout",
          "text": [
            "[3.25440000e+04 2.86508962e+03 4.75430042e+00 2.48021475e+02\n",
            " 7.78365630e+02 5.67026428e+02 2.26534444e+02 5.32445216e+01\n",
            " 6.74390179e+01 3.78370873e+01 8.64672631e+00 8.77939628e+01\n",
            " 1.74631017e+02 5.17526361e+01 3.75531453e+02 8.61137528e+02\n",
            " 1.59672440e+01 1.24869990e+03 8.34284511e+01 2.95561759e+02]\n",
            "            Gênero         Score\n",
            "0           Action  32544.000000\n",
            "1        Adventure   2865.089621\n",
            "2        Animation      4.754300\n",
            "3           Comedy    248.021475\n",
            "4            Crime    778.365630\n",
            "5      Documentary    567.026428\n",
            "6            Drama    226.534444\n",
            "7           Family     53.244522\n",
            "8          Fantasy     67.439018\n",
            "9          Foreign     37.837087\n",
            "10         History      8.646726\n",
            "11          Horror     87.793963\n",
            "12           Music    174.631017\n",
            "13         Mystery     51.752636\n",
            "14         Romance    375.531453\n",
            "15  ScienceFiction    861.137528\n",
            "16         TVMovie     15.967244\n",
            "17        Thriller   1248.699905\n",
            "18             War     83.428451\n",
            "19         Western    295.561759\n"
          ]
        }
      ]
    },
    {
      "cell_type": "code",
      "source": [
        "from sklearn.ensemble import RandomForestClassifier\n",
        "import pandas as pd\n",
        "\n",
        "# Exemplo de dataframe com os gêneros (features) e o gênero alvo\n",
        "X = df_parquet[generos]  # Features: gêneros dos filmes\n",
        "y = df_parquet['Action']  # Variável alvo: gênero do filme\n",
        "\n",
        "# Definir e treinar o modelo Random Forest\n",
        "model = RandomForestClassifier(criterion='entropy',random_state=42)\n",
        "model.fit(X, y)\n",
        "\n",
        "# Obter a importância das features\n",
        "importances = model.feature_importances_\n",
        "\n",
        "# Criar um dataframe para visualizar as importâncias\n",
        "importancia_df = pd.DataFrame({'Gênero': generos, 'Importância': importances})\n",
        "\n",
        "# Ordenar as importâncias do maior para o menor\n",
        "importancia_ordenada = importancia_df.sort_values(by='Importância', ascending=False)\n",
        "print(importancia_ordenada)\n",
        "\n",
        "# Definir um threshold (por exemplo, selecionar importância acima de 0.05)\n",
        "threshold = 0.005\n",
        "generos_selecionados = importancia_ordenada[importancia_ordenada['Importância'] > threshold]\n",
        "\n",
        "# Gêneros selecionados\n",
        "print(\"Gêneros selecionados com base no threshold:\")\n",
        "print(generos_selecionados)\n"
      ],
      "metadata": {
        "colab": {
          "base_uri": "https://localhost:8080/"
        },
        "id": "shKfCt_vFUqO",
        "outputId": "e099463d-61ce-4189-a726-e0ef49e0e47a"
      },
      "execution_count": null,
      "outputs": [
        {
          "output_type": "stream",
          "name": "stdout",
          "text": [
            "            Gênero  Importância\n",
            "0           Action     0.909201\n",
            "1        Adventure     0.026766\n",
            "17        Thriller     0.014192\n",
            "5      Documentary     0.010750\n",
            "15  ScienceFiction     0.006442\n",
            "4            Crime     0.006186\n",
            "6            Drama     0.004466\n",
            "14         Romance     0.003777\n",
            "11          Horror     0.003685\n",
            "3           Comedy     0.003026\n",
            "19         Western     0.002482\n",
            "13         Mystery     0.002393\n",
            "7           Family     0.001906\n",
            "12           Music     0.001009\n",
            "2        Animation     0.000900\n",
            "18             War     0.000847\n",
            "8          Fantasy     0.000703\n",
            "9          Foreign     0.000579\n",
            "16         TVMovie     0.000349\n",
            "10         History     0.000342\n",
            "Gêneros selecionados com base no threshold:\n",
            "            Gênero  Importância\n",
            "0           Action     0.909201\n",
            "1        Adventure     0.026766\n",
            "17        Thriller     0.014192\n",
            "5      Documentary     0.010750\n",
            "15  ScienceFiction     0.006442\n",
            "4            Crime     0.006186\n"
          ]
        }
      ]
    },
    {
      "cell_type": "code",
      "source": [
        "print(model.criterion)"
      ],
      "metadata": {
        "colab": {
          "base_uri": "https://localhost:8080/"
        },
        "id": "BNki0x7SHdcd",
        "outputId": "3b4659b5-5423-4ada-f68f-2592c2535995"
      },
      "execution_count": null,
      "outputs": [
        {
          "output_type": "stream",
          "name": "stdout",
          "text": [
            "entropy\n"
          ]
        }
      ]
    }
  ]
}